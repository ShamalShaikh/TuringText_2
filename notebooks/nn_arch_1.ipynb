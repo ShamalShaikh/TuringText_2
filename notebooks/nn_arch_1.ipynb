{
  "nbformat": 4,
  "nbformat_minor": 0,
  "metadata": {
    "colab": {
      "provenance": []
    },
    "kernelspec": {
      "name": "python3",
      "display_name": "Python 3"
    },
    "language_info": {
      "name": "python"
    }
  },
  "cells": [
    {
      "cell_type": "code",
      "execution_count": null,
      "metadata": {
        "colab": {
          "base_uri": "https://localhost:8080/"
        },
        "id": "GX4YKInkHC7Y",
        "outputId": "0f572c86-2ec6-4796-ce62-b9fdc1c1c01d"
      },
      "outputs": [
        {
          "output_type": "stream",
          "name": "stdout",
          "text": [
            "Drive already mounted at /content/drive; to attempt to forcibly remount, call drive.mount(\"/content/drive\", force_remount=True).\n"
          ]
        }
      ],
      "source": [
        "from google.colab import drive\n",
        "drive.mount('/content/drive')"
      ]
    },
    {
      "cell_type": "markdown",
      "source": [
        "## Load all data"
      ],
      "metadata": {
        "id": "tr4-Dwzv1u0f"
      }
    },
    {
      "cell_type": "code",
      "source": [
        "import pickle\n",
        "import pandas as pd\n",
        "\n",
        "train_path = \"drive/MyDrive/subtaskA_train_monolingual.jsonl\"\n",
        "dev_path = \"drive/MyDrive/subtaskA_dev_monolingual.jsonl\"\n",
        "\n",
        "train_embeds_path = \"drive/MyDrive/embeddings512.pkl\"\n",
        "dev_embeds_path = \"drive/MyDrive/embeddings512_dev.pkl\"\n",
        "\n",
        "with open(train_path, 'r') as f:\n",
        "    train_data = pd.read_json(f, lines=True)\n",
        "\n",
        "with open(train_embeds_path, 'rb') as f:\n",
        "    train_embeds = pickle.load(f)\n",
        "\n",
        "with open(dev_path, 'r') as f:\n",
        "    dev_data = pd.read_json(f, lines=True)\n",
        "\n",
        "with open(dev_embeds_path, 'rb') as f:\n",
        "    dev_embeds = pickle.load(f)\n"
      ],
      "metadata": {
        "id": "mV-N3u52J3CK"
      },
      "execution_count": null,
      "outputs": []
    },
    {
      "cell_type": "code",
      "source": [
        "train_data"
      ],
      "metadata": {
        "colab": {
          "base_uri": "https://localhost:8080/",
          "height": 597
        },
        "id": "mK2n-mdBOcJe",
        "outputId": "f03d8801-cf3f-493f-8a54-99e392c77793"
      },
      "execution_count": null,
      "outputs": [
        {
          "output_type": "execute_result",
          "data": {
            "text/plain": [
              "                                                     text  label    model  \\\n",
              "0       Forza Motorsport is a popular racing game that...      1  chatGPT   \n",
              "1       Buying Virtual Console games for your Nintendo...      1  chatGPT   \n",
              "2       Windows NT 4.0 was a popular operating system ...      1  chatGPT   \n",
              "3       How to Make Perfume\\n\\nPerfume is a great way ...      1  chatGPT   \n",
              "4       How to Convert Song Lyrics to a Song'\\n\\nConve...      1  chatGPT   \n",
              "...                                                   ...    ...      ...   \n",
              "119752  The paper is an interesting contribution, prim...      0    human   \n",
              "119753  \\nWe thank the reviewers for all their comment...      0    human   \n",
              "119754  The authors introduce a semi-supervised method...      0    human   \n",
              "119755  This paper proposes the Neural Graph Machine t...      0    human   \n",
              "119756  The paper proposes a model that aims at learni...      0    human   \n",
              "\n",
              "          source      id  \n",
              "0        wikihow       0  \n",
              "1        wikihow       1  \n",
              "2        wikihow       2  \n",
              "3        wikihow       3  \n",
              "4        wikihow       4  \n",
              "...          ...     ...  \n",
              "119752  peerread  119752  \n",
              "119753  peerread  119753  \n",
              "119754  peerread  119754  \n",
              "119755  peerread  119755  \n",
              "119756  peerread  119756  \n",
              "\n",
              "[119757 rows x 5 columns]"
            ],
            "text/html": [
              "\n",
              "  <div id=\"df-2e866ff2-b0ec-41e9-8633-36145dfe7aa6\" class=\"colab-df-container\">\n",
              "    <div>\n",
              "<style scoped>\n",
              "    .dataframe tbody tr th:only-of-type {\n",
              "        vertical-align: middle;\n",
              "    }\n",
              "\n",
              "    .dataframe tbody tr th {\n",
              "        vertical-align: top;\n",
              "    }\n",
              "\n",
              "    .dataframe thead th {\n",
              "        text-align: right;\n",
              "    }\n",
              "</style>\n",
              "<table border=\"1\" class=\"dataframe\">\n",
              "  <thead>\n",
              "    <tr style=\"text-align: right;\">\n",
              "      <th></th>\n",
              "      <th>text</th>\n",
              "      <th>label</th>\n",
              "      <th>model</th>\n",
              "      <th>source</th>\n",
              "      <th>id</th>\n",
              "    </tr>\n",
              "  </thead>\n",
              "  <tbody>\n",
              "    <tr>\n",
              "      <th>0</th>\n",
              "      <td>Forza Motorsport is a popular racing game that...</td>\n",
              "      <td>1</td>\n",
              "      <td>chatGPT</td>\n",
              "      <td>wikihow</td>\n",
              "      <td>0</td>\n",
              "    </tr>\n",
              "    <tr>\n",
              "      <th>1</th>\n",
              "      <td>Buying Virtual Console games for your Nintendo...</td>\n",
              "      <td>1</td>\n",
              "      <td>chatGPT</td>\n",
              "      <td>wikihow</td>\n",
              "      <td>1</td>\n",
              "    </tr>\n",
              "    <tr>\n",
              "      <th>2</th>\n",
              "      <td>Windows NT 4.0 was a popular operating system ...</td>\n",
              "      <td>1</td>\n",
              "      <td>chatGPT</td>\n",
              "      <td>wikihow</td>\n",
              "      <td>2</td>\n",
              "    </tr>\n",
              "    <tr>\n",
              "      <th>3</th>\n",
              "      <td>How to Make Perfume\\n\\nPerfume is a great way ...</td>\n",
              "      <td>1</td>\n",
              "      <td>chatGPT</td>\n",
              "      <td>wikihow</td>\n",
              "      <td>3</td>\n",
              "    </tr>\n",
              "    <tr>\n",
              "      <th>4</th>\n",
              "      <td>How to Convert Song Lyrics to a Song'\\n\\nConve...</td>\n",
              "      <td>1</td>\n",
              "      <td>chatGPT</td>\n",
              "      <td>wikihow</td>\n",
              "      <td>4</td>\n",
              "    </tr>\n",
              "    <tr>\n",
              "      <th>...</th>\n",
              "      <td>...</td>\n",
              "      <td>...</td>\n",
              "      <td>...</td>\n",
              "      <td>...</td>\n",
              "      <td>...</td>\n",
              "    </tr>\n",
              "    <tr>\n",
              "      <th>119752</th>\n",
              "      <td>The paper is an interesting contribution, prim...</td>\n",
              "      <td>0</td>\n",
              "      <td>human</td>\n",
              "      <td>peerread</td>\n",
              "      <td>119752</td>\n",
              "    </tr>\n",
              "    <tr>\n",
              "      <th>119753</th>\n",
              "      <td>\\nWe thank the reviewers for all their comment...</td>\n",
              "      <td>0</td>\n",
              "      <td>human</td>\n",
              "      <td>peerread</td>\n",
              "      <td>119753</td>\n",
              "    </tr>\n",
              "    <tr>\n",
              "      <th>119754</th>\n",
              "      <td>The authors introduce a semi-supervised method...</td>\n",
              "      <td>0</td>\n",
              "      <td>human</td>\n",
              "      <td>peerread</td>\n",
              "      <td>119754</td>\n",
              "    </tr>\n",
              "    <tr>\n",
              "      <th>119755</th>\n",
              "      <td>This paper proposes the Neural Graph Machine t...</td>\n",
              "      <td>0</td>\n",
              "      <td>human</td>\n",
              "      <td>peerread</td>\n",
              "      <td>119755</td>\n",
              "    </tr>\n",
              "    <tr>\n",
              "      <th>119756</th>\n",
              "      <td>The paper proposes a model that aims at learni...</td>\n",
              "      <td>0</td>\n",
              "      <td>human</td>\n",
              "      <td>peerread</td>\n",
              "      <td>119756</td>\n",
              "    </tr>\n",
              "  </tbody>\n",
              "</table>\n",
              "<p>119757 rows × 5 columns</p>\n",
              "</div>\n",
              "    <div class=\"colab-df-buttons\">\n",
              "\n",
              "  <div class=\"colab-df-container\">\n",
              "    <button class=\"colab-df-convert\" onclick=\"convertToInteractive('df-2e866ff2-b0ec-41e9-8633-36145dfe7aa6')\"\n",
              "            title=\"Convert this dataframe to an interactive table.\"\n",
              "            style=\"display:none;\">\n",
              "\n",
              "  <svg xmlns=\"http://www.w3.org/2000/svg\" height=\"24px\" viewBox=\"0 -960 960 960\">\n",
              "    <path d=\"M120-120v-720h720v720H120Zm60-500h600v-160H180v160Zm220 220h160v-160H400v160Zm0 220h160v-160H400v160ZM180-400h160v-160H180v160Zm440 0h160v-160H620v160ZM180-180h160v-160H180v160Zm440 0h160v-160H620v160Z\"/>\n",
              "  </svg>\n",
              "    </button>\n",
              "\n",
              "  <style>\n",
              "    .colab-df-container {\n",
              "      display:flex;\n",
              "      gap: 12px;\n",
              "    }\n",
              "\n",
              "    .colab-df-convert {\n",
              "      background-color: #E8F0FE;\n",
              "      border: none;\n",
              "      border-radius: 50%;\n",
              "      cursor: pointer;\n",
              "      display: none;\n",
              "      fill: #1967D2;\n",
              "      height: 32px;\n",
              "      padding: 0 0 0 0;\n",
              "      width: 32px;\n",
              "    }\n",
              "\n",
              "    .colab-df-convert:hover {\n",
              "      background-color: #E2EBFA;\n",
              "      box-shadow: 0px 1px 2px rgba(60, 64, 67, 0.3), 0px 1px 3px 1px rgba(60, 64, 67, 0.15);\n",
              "      fill: #174EA6;\n",
              "    }\n",
              "\n",
              "    .colab-df-buttons div {\n",
              "      margin-bottom: 4px;\n",
              "    }\n",
              "\n",
              "    [theme=dark] .colab-df-convert {\n",
              "      background-color: #3B4455;\n",
              "      fill: #D2E3FC;\n",
              "    }\n",
              "\n",
              "    [theme=dark] .colab-df-convert:hover {\n",
              "      background-color: #434B5C;\n",
              "      box-shadow: 0px 1px 3px 1px rgba(0, 0, 0, 0.15);\n",
              "      filter: drop-shadow(0px 1px 2px rgba(0, 0, 0, 0.3));\n",
              "      fill: #FFFFFF;\n",
              "    }\n",
              "  </style>\n",
              "\n",
              "    <script>\n",
              "      const buttonEl =\n",
              "        document.querySelector('#df-2e866ff2-b0ec-41e9-8633-36145dfe7aa6 button.colab-df-convert');\n",
              "      buttonEl.style.display =\n",
              "        google.colab.kernel.accessAllowed ? 'block' : 'none';\n",
              "\n",
              "      async function convertToInteractive(key) {\n",
              "        const element = document.querySelector('#df-2e866ff2-b0ec-41e9-8633-36145dfe7aa6');\n",
              "        const dataTable =\n",
              "          await google.colab.kernel.invokeFunction('convertToInteractive',\n",
              "                                                    [key], {});\n",
              "        if (!dataTable) return;\n",
              "\n",
              "        const docLinkHtml = 'Like what you see? Visit the ' +\n",
              "          '<a target=\"_blank\" href=https://colab.research.google.com/notebooks/data_table.ipynb>data table notebook</a>'\n",
              "          + ' to learn more about interactive tables.';\n",
              "        element.innerHTML = '';\n",
              "        dataTable['output_type'] = 'display_data';\n",
              "        await google.colab.output.renderOutput(dataTable, element);\n",
              "        const docLink = document.createElement('div');\n",
              "        docLink.innerHTML = docLinkHtml;\n",
              "        element.appendChild(docLink);\n",
              "      }\n",
              "    </script>\n",
              "  </div>\n",
              "\n",
              "\n",
              "<div id=\"df-b7329b21-081b-4cac-88d0-45fc5cc55295\">\n",
              "  <button class=\"colab-df-quickchart\" onclick=\"quickchart('df-b7329b21-081b-4cac-88d0-45fc5cc55295')\"\n",
              "            title=\"Suggest charts\"\n",
              "            style=\"display:none;\">\n",
              "\n",
              "<svg xmlns=\"http://www.w3.org/2000/svg\" height=\"24px\"viewBox=\"0 0 24 24\"\n",
              "     width=\"24px\">\n",
              "    <g>\n",
              "        <path d=\"M19 3H5c-1.1 0-2 .9-2 2v14c0 1.1.9 2 2 2h14c1.1 0 2-.9 2-2V5c0-1.1-.9-2-2-2zM9 17H7v-7h2v7zm4 0h-2V7h2v10zm4 0h-2v-4h2v4z\"/>\n",
              "    </g>\n",
              "</svg>\n",
              "  </button>\n",
              "\n",
              "<style>\n",
              "  .colab-df-quickchart {\n",
              "      --bg-color: #E8F0FE;\n",
              "      --fill-color: #1967D2;\n",
              "      --hover-bg-color: #E2EBFA;\n",
              "      --hover-fill-color: #174EA6;\n",
              "      --disabled-fill-color: #AAA;\n",
              "      --disabled-bg-color: #DDD;\n",
              "  }\n",
              "\n",
              "  [theme=dark] .colab-df-quickchart {\n",
              "      --bg-color: #3B4455;\n",
              "      --fill-color: #D2E3FC;\n",
              "      --hover-bg-color: #434B5C;\n",
              "      --hover-fill-color: #FFFFFF;\n",
              "      --disabled-bg-color: #3B4455;\n",
              "      --disabled-fill-color: #666;\n",
              "  }\n",
              "\n",
              "  .colab-df-quickchart {\n",
              "    background-color: var(--bg-color);\n",
              "    border: none;\n",
              "    border-radius: 50%;\n",
              "    cursor: pointer;\n",
              "    display: none;\n",
              "    fill: var(--fill-color);\n",
              "    height: 32px;\n",
              "    padding: 0;\n",
              "    width: 32px;\n",
              "  }\n",
              "\n",
              "  .colab-df-quickchart:hover {\n",
              "    background-color: var(--hover-bg-color);\n",
              "    box-shadow: 0 1px 2px rgba(60, 64, 67, 0.3), 0 1px 3px 1px rgba(60, 64, 67, 0.15);\n",
              "    fill: var(--button-hover-fill-color);\n",
              "  }\n",
              "\n",
              "  .colab-df-quickchart-complete:disabled,\n",
              "  .colab-df-quickchart-complete:disabled:hover {\n",
              "    background-color: var(--disabled-bg-color);\n",
              "    fill: var(--disabled-fill-color);\n",
              "    box-shadow: none;\n",
              "  }\n",
              "\n",
              "  .colab-df-spinner {\n",
              "    border: 2px solid var(--fill-color);\n",
              "    border-color: transparent;\n",
              "    border-bottom-color: var(--fill-color);\n",
              "    animation:\n",
              "      spin 1s steps(1) infinite;\n",
              "  }\n",
              "\n",
              "  @keyframes spin {\n",
              "    0% {\n",
              "      border-color: transparent;\n",
              "      border-bottom-color: var(--fill-color);\n",
              "      border-left-color: var(--fill-color);\n",
              "    }\n",
              "    20% {\n",
              "      border-color: transparent;\n",
              "      border-left-color: var(--fill-color);\n",
              "      border-top-color: var(--fill-color);\n",
              "    }\n",
              "    30% {\n",
              "      border-color: transparent;\n",
              "      border-left-color: var(--fill-color);\n",
              "      border-top-color: var(--fill-color);\n",
              "      border-right-color: var(--fill-color);\n",
              "    }\n",
              "    40% {\n",
              "      border-color: transparent;\n",
              "      border-right-color: var(--fill-color);\n",
              "      border-top-color: var(--fill-color);\n",
              "    }\n",
              "    60% {\n",
              "      border-color: transparent;\n",
              "      border-right-color: var(--fill-color);\n",
              "    }\n",
              "    80% {\n",
              "      border-color: transparent;\n",
              "      border-right-color: var(--fill-color);\n",
              "      border-bottom-color: var(--fill-color);\n",
              "    }\n",
              "    90% {\n",
              "      border-color: transparent;\n",
              "      border-bottom-color: var(--fill-color);\n",
              "    }\n",
              "  }\n",
              "</style>\n",
              "\n",
              "  <script>\n",
              "    async function quickchart(key) {\n",
              "      const quickchartButtonEl =\n",
              "        document.querySelector('#' + key + ' button');\n",
              "      quickchartButtonEl.disabled = true;  // To prevent multiple clicks.\n",
              "      quickchartButtonEl.classList.add('colab-df-spinner');\n",
              "      try {\n",
              "        const charts = await google.colab.kernel.invokeFunction(\n",
              "            'suggestCharts', [key], {});\n",
              "      } catch (error) {\n",
              "        console.error('Error during call to suggestCharts:', error);\n",
              "      }\n",
              "      quickchartButtonEl.classList.remove('colab-df-spinner');\n",
              "      quickchartButtonEl.classList.add('colab-df-quickchart-complete');\n",
              "    }\n",
              "    (() => {\n",
              "      let quickchartButtonEl =\n",
              "        document.querySelector('#df-b7329b21-081b-4cac-88d0-45fc5cc55295 button');\n",
              "      quickchartButtonEl.style.display =\n",
              "        google.colab.kernel.accessAllowed ? 'block' : 'none';\n",
              "    })();\n",
              "  </script>\n",
              "</div>\n",
              "\n",
              "  <div id=\"id_19c29fbc-4d5d-4a2e-b6a0-05072890402b\">\n",
              "    <style>\n",
              "      .colab-df-generate {\n",
              "        background-color: #E8F0FE;\n",
              "        border: none;\n",
              "        border-radius: 50%;\n",
              "        cursor: pointer;\n",
              "        display: none;\n",
              "        fill: #1967D2;\n",
              "        height: 32px;\n",
              "        padding: 0 0 0 0;\n",
              "        width: 32px;\n",
              "      }\n",
              "\n",
              "      .colab-df-generate:hover {\n",
              "        background-color: #E2EBFA;\n",
              "        box-shadow: 0px 1px 2px rgba(60, 64, 67, 0.3), 0px 1px 3px 1px rgba(60, 64, 67, 0.15);\n",
              "        fill: #174EA6;\n",
              "      }\n",
              "\n",
              "      [theme=dark] .colab-df-generate {\n",
              "        background-color: #3B4455;\n",
              "        fill: #D2E3FC;\n",
              "      }\n",
              "\n",
              "      [theme=dark] .colab-df-generate:hover {\n",
              "        background-color: #434B5C;\n",
              "        box-shadow: 0px 1px 3px 1px rgba(0, 0, 0, 0.15);\n",
              "        filter: drop-shadow(0px 1px 2px rgba(0, 0, 0, 0.3));\n",
              "        fill: #FFFFFF;\n",
              "      }\n",
              "    </style>\n",
              "    <button class=\"colab-df-generate\" onclick=\"generateWithVariable('train_data')\"\n",
              "            title=\"Generate code using this dataframe.\"\n",
              "            style=\"display:none;\">\n",
              "\n",
              "  <svg xmlns=\"http://www.w3.org/2000/svg\" height=\"24px\"viewBox=\"0 0 24 24\"\n",
              "       width=\"24px\">\n",
              "    <path d=\"M7,19H8.4L18.45,9,17,7.55,7,17.6ZM5,21V16.75L18.45,3.32a2,2,0,0,1,2.83,0l1.4,1.43a1.91,1.91,0,0,1,.58,1.4,1.91,1.91,0,0,1-.58,1.4L9.25,21ZM18.45,9,17,7.55Zm-12,3A5.31,5.31,0,0,0,4.9,8.1,5.31,5.31,0,0,0,1,6.5,5.31,5.31,0,0,0,4.9,4.9,5.31,5.31,0,0,0,6.5,1,5.31,5.31,0,0,0,8.1,4.9,5.31,5.31,0,0,0,12,6.5,5.46,5.46,0,0,0,6.5,12Z\"/>\n",
              "  </svg>\n",
              "    </button>\n",
              "    <script>\n",
              "      (() => {\n",
              "      const buttonEl =\n",
              "        document.querySelector('#id_19c29fbc-4d5d-4a2e-b6a0-05072890402b button.colab-df-generate');\n",
              "      buttonEl.style.display =\n",
              "        google.colab.kernel.accessAllowed ? 'block' : 'none';\n",
              "\n",
              "      buttonEl.onclick = () => {\n",
              "        google.colab.notebook.generateWithVariable('train_data');\n",
              "      }\n",
              "      })();\n",
              "    </script>\n",
              "  </div>\n",
              "\n",
              "    </div>\n",
              "  </div>\n"
            ]
          },
          "metadata": {},
          "execution_count": 4
        }
      ]
    },
    {
      "cell_type": "code",
      "source": [
        "# sanity check\n",
        "len(labels), len(inputs)"
      ],
      "metadata": {
        "colab": {
          "base_uri": "https://localhost:8080/",
          "height": 193
        },
        "id": "gIamHkygPhRF",
        "outputId": "9387a177-eac0-4918-8d46-9c0eb2c032a3"
      },
      "execution_count": null,
      "outputs": [
        {
          "output_type": "error",
          "ename": "NameError",
          "evalue": "ignored",
          "traceback": [
            "\u001b[0;31m---------------------------------------------------------------------------\u001b[0m",
            "\u001b[0;31mNameError\u001b[0m                                 Traceback (most recent call last)",
            "\u001b[0;32m<ipython-input-6-9f9f686d3c39>\u001b[0m in \u001b[0;36m<cell line: 2>\u001b[0;34m()\u001b[0m\n\u001b[1;32m      1\u001b[0m \u001b[0;31m# sanity check\u001b[0m\u001b[0;34m\u001b[0m\u001b[0;34m\u001b[0m\u001b[0m\n\u001b[0;32m----> 2\u001b[0;31m \u001b[0mlen\u001b[0m\u001b[0;34m(\u001b[0m\u001b[0mlabels\u001b[0m\u001b[0;34m)\u001b[0m\u001b[0;34m,\u001b[0m \u001b[0mlen\u001b[0m\u001b[0;34m(\u001b[0m\u001b[0minputs\u001b[0m\u001b[0;34m)\u001b[0m\u001b[0;34m\u001b[0m\u001b[0;34m\u001b[0m\u001b[0m\n\u001b[0m",
            "\u001b[0;31mNameError\u001b[0m: name 'labels' is not defined"
          ]
        }
      ]
    },
    {
      "cell_type": "markdown",
      "source": [
        "## Define model and training loop"
      ],
      "metadata": {
        "id": "aDPZVRLr11ff"
      }
    },
    {
      "cell_type": "code",
      "source": [
        "import torch\n",
        "import torch.nn as nn\n",
        "from torch.nn.functional import relu\n",
        "\n",
        "class neuralnet(nn.Module):\n",
        "    def __init__(self, input_size, output_size):\n",
        "        super().__init__()\n",
        "        self.hidden_layer = nn.Linear(input_size, output_size)\n",
        "        self.double()\n",
        "    def forward(self,embeds):\n",
        "        return torch.sigmoid(self.hidden_layer(embeds))\n",
        "\n",
        "\n"
      ],
      "metadata": {
        "id": "S7DQx5GX1Byw"
      },
      "execution_count": null,
      "outputs": []
    },
    {
      "cell_type": "code",
      "source": [
        "from tqdm import tqdm\n",
        "from sklearn.metrics import accuracy_score, classification_report\n",
        "import numpy as np\n",
        "\n",
        "def training(\n",
        "        train_inputs,\n",
        "        train_labels,\n",
        "        dev_inputs,\n",
        "        dev_labels,\n",
        "        model,\n",
        "        optimizer,\n",
        "        criterion,\n",
        "        epochs = 20,\n",
        "        batch_size = 20\n",
        "):\n",
        "    data = list(zip(train_inputs,train_labels))\n",
        "    for epoch in range(epochs):\n",
        "        random.shuffle(data)\n",
        "        batches = []\n",
        "        running_loss = 0.0\n",
        "        for i in range(0,len(data),batch_size):\n",
        "            batches.append(data[i:i+batch_size])\n",
        "        print(len(data),len(batches))\n",
        "\n",
        "        for batch in tqdm(batches):\n",
        "            inputs, labels = zip(*batch)\n",
        "            inputs = torch.tensor(inputs) #, dtype = torch.float32\n",
        "            labels = torch.tensor(labels)\n",
        "\n",
        "            optimizer.zero_grad()\n",
        "\n",
        "            outputs = model(inputs)\n",
        "            loss = criterion(outputs,labels)\n",
        "            loss.backward()\n",
        "            optimizer.step()\n",
        "            running_loss += loss.item()\n",
        "        print(f'[{epoch + 1}] loss: {running_loss / len(batches):.3f}')\n",
        "    predictions = model(torch.tensor(dev_inputs)).tolist()\n",
        "    predictions = list(map(np.argmax, predictions))\n",
        "\n",
        "    accuracy = accuracy_score(predictions, dev_labels)\n",
        "    report = classification_report(predictions, dev_labels)\n",
        "    print(f\"Accuracy on development data: {accuracy}\")\n",
        "    print(report)"
      ],
      "metadata": {
        "id": "csMxtYr0Qgzv"
      },
      "execution_count": null,
      "outputs": []
    },
    {
      "cell_type": "markdown",
      "source": [
        "Neural network with just embeddings"
      ],
      "metadata": {
        "id": "ZsKASNTx35kt"
      }
    },
    {
      "cell_type": "code",
      "source": [
        "import random\n",
        "\n",
        "\n",
        "epochs = 20\n",
        "batch_size = 20\n",
        "inputs = train_embeds\n",
        "labels = list(train_data[\"label\"])\n",
        "dev_inputs = dev_embeds\n",
        "dev_labels = dev_data[\"label\"]\n",
        "criterion = nn.CrossEntropyLoss()\n",
        "model = neuralnet(len(inputs[0]),2)\n",
        "optimizer = torch.optim.SGD(model.parameters(), lr=0.003, momentum=0.9)\n",
        "\n",
        "training(\n",
        "        inputs,\n",
        "        labels,\n",
        "        dev_inputs,\n",
        "        dev_labels,\n",
        "        model,\n",
        "        optimizer,\n",
        "        criterion,\n",
        "        epochs = epochs,\n",
        "        batch_size = batch_size\n",
        ")"
      ],
      "metadata": {
        "colab": {
          "base_uri": "https://localhost:8080/"
        },
        "id": "PGiT4POyQcSv",
        "outputId": "2bf2da72-65c4-4ce4-a5e3-99b797e19fcd"
      },
      "execution_count": null,
      "outputs": [
        {
          "output_type": "stream",
          "name": "stdout",
          "text": [
            "119757 5988\n"
          ]
        },
        {
          "output_type": "stream",
          "name": "stderr",
          "text": [
            "100%|██████████| 5988/5988 [00:15<00:00, 379.37it/s]\n"
          ]
        },
        {
          "output_type": "stream",
          "name": "stdout",
          "text": [
            "[1] loss: 0.473\n",
            "119757 5988\n"
          ]
        },
        {
          "output_type": "stream",
          "name": "stderr",
          "text": [
            "100%|██████████| 5988/5988 [00:14<00:00, 406.31it/s]\n"
          ]
        },
        {
          "output_type": "stream",
          "name": "stdout",
          "text": [
            "[2] loss: 0.436\n",
            "119757 5988\n"
          ]
        },
        {
          "output_type": "stream",
          "name": "stderr",
          "text": [
            "100%|██████████| 5988/5988 [00:14<00:00, 407.20it/s]\n"
          ]
        },
        {
          "output_type": "stream",
          "name": "stdout",
          "text": [
            "[3] loss: 0.426\n",
            "119757 5988\n"
          ]
        },
        {
          "output_type": "stream",
          "name": "stderr",
          "text": [
            "100%|██████████| 5988/5988 [00:14<00:00, 406.45it/s]\n"
          ]
        },
        {
          "output_type": "stream",
          "name": "stdout",
          "text": [
            "[4] loss: 0.421\n",
            "119757 5988\n"
          ]
        },
        {
          "output_type": "stream",
          "name": "stderr",
          "text": [
            "100%|██████████| 5988/5988 [00:14<00:00, 409.32it/s]\n"
          ]
        },
        {
          "output_type": "stream",
          "name": "stdout",
          "text": [
            "[5] loss: 0.417\n",
            "119757 5988\n"
          ]
        },
        {
          "output_type": "stream",
          "name": "stderr",
          "text": [
            "100%|██████████| 5988/5988 [00:14<00:00, 412.13it/s]\n"
          ]
        },
        {
          "output_type": "stream",
          "name": "stdout",
          "text": [
            "[6] loss: 0.415\n",
            "119757 5988\n"
          ]
        },
        {
          "output_type": "stream",
          "name": "stderr",
          "text": [
            "100%|██████████| 5988/5988 [00:14<00:00, 411.83it/s]\n"
          ]
        },
        {
          "output_type": "stream",
          "name": "stdout",
          "text": [
            "[7] loss: 0.412\n",
            "119757 5988\n"
          ]
        },
        {
          "output_type": "stream",
          "name": "stderr",
          "text": [
            "100%|██████████| 5988/5988 [00:14<00:00, 409.17it/s]\n"
          ]
        },
        {
          "output_type": "stream",
          "name": "stdout",
          "text": [
            "[8] loss: 0.411\n",
            "119757 5988\n"
          ]
        },
        {
          "output_type": "stream",
          "name": "stderr",
          "text": [
            "100%|██████████| 5988/5988 [00:14<00:00, 408.80it/s]\n"
          ]
        },
        {
          "output_type": "stream",
          "name": "stdout",
          "text": [
            "[9] loss: 0.409\n",
            "119757 5988\n"
          ]
        },
        {
          "output_type": "stream",
          "name": "stderr",
          "text": [
            "100%|██████████| 5988/5988 [00:14<00:00, 407.35it/s]\n"
          ]
        },
        {
          "output_type": "stream",
          "name": "stdout",
          "text": [
            "[10] loss: 0.408\n",
            "119757 5988\n"
          ]
        },
        {
          "output_type": "stream",
          "name": "stderr",
          "text": [
            "100%|██████████| 5988/5988 [00:14<00:00, 409.94it/s]\n"
          ]
        },
        {
          "output_type": "stream",
          "name": "stdout",
          "text": [
            "[11] loss: 0.407\n",
            "119757 5988\n"
          ]
        },
        {
          "output_type": "stream",
          "name": "stderr",
          "text": [
            "100%|██████████| 5988/5988 [00:14<00:00, 407.45it/s]\n"
          ]
        },
        {
          "output_type": "stream",
          "name": "stdout",
          "text": [
            "[12] loss: 0.406\n",
            "119757 5988\n"
          ]
        },
        {
          "output_type": "stream",
          "name": "stderr",
          "text": [
            "100%|██████████| 5988/5988 [00:14<00:00, 413.44it/s]\n"
          ]
        },
        {
          "output_type": "stream",
          "name": "stdout",
          "text": [
            "[13] loss: 0.405\n",
            "119757 5988\n"
          ]
        },
        {
          "output_type": "stream",
          "name": "stderr",
          "text": [
            "100%|██████████| 5988/5988 [00:14<00:00, 410.39it/s]\n"
          ]
        },
        {
          "output_type": "stream",
          "name": "stdout",
          "text": [
            "[14] loss: 0.404\n",
            "119757 5988\n"
          ]
        },
        {
          "output_type": "stream",
          "name": "stderr",
          "text": [
            "100%|██████████| 5988/5988 [00:14<00:00, 412.05it/s]\n"
          ]
        },
        {
          "output_type": "stream",
          "name": "stdout",
          "text": [
            "[15] loss: 0.404\n",
            "119757 5988\n"
          ]
        },
        {
          "output_type": "stream",
          "name": "stderr",
          "text": [
            "100%|██████████| 5988/5988 [00:14<00:00, 411.48it/s]\n"
          ]
        },
        {
          "output_type": "stream",
          "name": "stdout",
          "text": [
            "[16] loss: 0.403\n",
            "119757 5988\n"
          ]
        },
        {
          "output_type": "stream",
          "name": "stderr",
          "text": [
            "100%|██████████| 5988/5988 [00:14<00:00, 409.58it/s]\n"
          ]
        },
        {
          "output_type": "stream",
          "name": "stdout",
          "text": [
            "[17] loss: 0.403\n",
            "119757 5988\n"
          ]
        },
        {
          "output_type": "stream",
          "name": "stderr",
          "text": [
            "100%|██████████| 5988/5988 [00:14<00:00, 409.52it/s]\n"
          ]
        },
        {
          "output_type": "stream",
          "name": "stdout",
          "text": [
            "[18] loss: 0.402\n",
            "119757 5988\n"
          ]
        },
        {
          "output_type": "stream",
          "name": "stderr",
          "text": [
            "100%|██████████| 5988/5988 [00:14<00:00, 408.46it/s]\n"
          ]
        },
        {
          "output_type": "stream",
          "name": "stdout",
          "text": [
            "[19] loss: 0.401\n",
            "119757 5988\n"
          ]
        },
        {
          "output_type": "stream",
          "name": "stderr",
          "text": [
            "100%|██████████| 5988/5988 [00:14<00:00, 406.42it/s]\n"
          ]
        },
        {
          "output_type": "stream",
          "name": "stdout",
          "text": [
            "[20] loss: 0.401\n",
            "Accuracy on development data: 0.6486\n",
            "              precision    recall  f1-score   support\n",
            "\n",
            "           0       0.92      0.60      0.72      3877\n",
            "           1       0.37      0.83      0.52      1123\n",
            "\n",
            "    accuracy                           0.65      5000\n",
            "   macro avg       0.65      0.71      0.62      5000\n",
            "weighted avg       0.80      0.65      0.68      5000\n",
            "\n"
          ]
        }
      ]
    },
    {
      "cell_type": "markdown",
      "source": [
        "Creating structural features"
      ],
      "metadata": {
        "id": "UwOQbvPN5Ztm"
      }
    },
    {
      "cell_type": "code",
      "source": [
        "def count_special_characters(text):\n",
        "    return sum(not ch.isalnum() and not ch.isspace() for ch in text)\n",
        "\n",
        "train_data['Special_Characters_Count'] = train_data['text'].apply(count_special_characters)\n",
        "dev_data['Special_Characters_Count'] = dev_data['text'].apply(count_special_characters)\n",
        "\n",
        "train_data['Text_Length'] = train_data['text'].apply(len)\n",
        "dev_data['Text_Length'] = dev_data['text'].apply(len)\n",
        "\n",
        "\n",
        "train_data['Special_Characters_Ratio'] = train_data['Special_Characters_Count'] / train_data['Text_Length']\n",
        "dev_data['Special_Characters_Ratio'] = dev_data['Special_Characters_Count'] / dev_data['Text_Length']\n"
      ],
      "metadata": {
        "id": "ItWPc_kZjbuS"
      },
      "execution_count": null,
      "outputs": []
    },
    {
      "cell_type": "code",
      "source": [
        "train_data"
      ],
      "metadata": {
        "colab": {
          "base_uri": "https://localhost:8080/",
          "height": 808
        },
        "id": "GU1WevpE8hvL",
        "outputId": "fbe98015-566d-4e53-cb39-b5481379ddba"
      },
      "execution_count": null,
      "outputs": [
        {
          "output_type": "execute_result",
          "data": {
            "text/plain": [
              "                                                     text  label    model  \\\n",
              "0       Forza Motorsport is a popular racing game that...      1  chatGPT   \n",
              "1       Buying Virtual Console games for your Nintendo...      1  chatGPT   \n",
              "2       Windows NT 4.0 was a popular operating system ...      1  chatGPT   \n",
              "3       How to Make Perfume\\n\\nPerfume is a great way ...      1  chatGPT   \n",
              "4       How to Convert Song Lyrics to a Song'\\n\\nConve...      1  chatGPT   \n",
              "...                                                   ...    ...      ...   \n",
              "119752  The paper is an interesting contribution, prim...      0    human   \n",
              "119753  \\nWe thank the reviewers for all their comment...      0    human   \n",
              "119754  The authors introduce a semi-supervised method...      0    human   \n",
              "119755  This paper proposes the Neural Graph Machine t...      0    human   \n",
              "119756  The paper proposes a model that aims at learni...      0    human   \n",
              "\n",
              "          source      id  Special_Characters_Count  Text_Length  \\\n",
              "0        wikihow       0                        82         2244   \n",
              "1        wikihow       1                       132         3728   \n",
              "2        wikihow       2                       157         5237   \n",
              "3        wikihow       3                       152         4729   \n",
              "4        wikihow       4                        89         3095   \n",
              "...          ...     ...                       ...          ...   \n",
              "119752  peerread  119752                        14          440   \n",
              "119753  peerread  119753                       273         4837   \n",
              "119754  peerread  119754                        37         1109   \n",
              "119755  peerread  119755                        25         1176   \n",
              "119756  peerread  119756                        36         1065   \n",
              "\n",
              "        Special_Characters_Ratio  \n",
              "0                       0.036542  \n",
              "1                       0.035408  \n",
              "2                       0.029979  \n",
              "3                       0.032142  \n",
              "4                       0.028756  \n",
              "...                          ...  \n",
              "119752                  0.031818  \n",
              "119753                  0.056440  \n",
              "119754                  0.033363  \n",
              "119755                  0.021259  \n",
              "119756                  0.033803  \n",
              "\n",
              "[119757 rows x 8 columns]"
            ],
            "text/html": [
              "\n",
              "  <div id=\"df-b3ca95d5-9483-40f0-ac28-1b5b3bbb1540\" class=\"colab-df-container\">\n",
              "    <div>\n",
              "<style scoped>\n",
              "    .dataframe tbody tr th:only-of-type {\n",
              "        vertical-align: middle;\n",
              "    }\n",
              "\n",
              "    .dataframe tbody tr th {\n",
              "        vertical-align: top;\n",
              "    }\n",
              "\n",
              "    .dataframe thead th {\n",
              "        text-align: right;\n",
              "    }\n",
              "</style>\n",
              "<table border=\"1\" class=\"dataframe\">\n",
              "  <thead>\n",
              "    <tr style=\"text-align: right;\">\n",
              "      <th></th>\n",
              "      <th>text</th>\n",
              "      <th>label</th>\n",
              "      <th>model</th>\n",
              "      <th>source</th>\n",
              "      <th>id</th>\n",
              "      <th>Special_Characters_Count</th>\n",
              "      <th>Text_Length</th>\n",
              "      <th>Special_Characters_Ratio</th>\n",
              "    </tr>\n",
              "  </thead>\n",
              "  <tbody>\n",
              "    <tr>\n",
              "      <th>0</th>\n",
              "      <td>Forza Motorsport is a popular racing game that...</td>\n",
              "      <td>1</td>\n",
              "      <td>chatGPT</td>\n",
              "      <td>wikihow</td>\n",
              "      <td>0</td>\n",
              "      <td>82</td>\n",
              "      <td>2244</td>\n",
              "      <td>0.036542</td>\n",
              "    </tr>\n",
              "    <tr>\n",
              "      <th>1</th>\n",
              "      <td>Buying Virtual Console games for your Nintendo...</td>\n",
              "      <td>1</td>\n",
              "      <td>chatGPT</td>\n",
              "      <td>wikihow</td>\n",
              "      <td>1</td>\n",
              "      <td>132</td>\n",
              "      <td>3728</td>\n",
              "      <td>0.035408</td>\n",
              "    </tr>\n",
              "    <tr>\n",
              "      <th>2</th>\n",
              "      <td>Windows NT 4.0 was a popular operating system ...</td>\n",
              "      <td>1</td>\n",
              "      <td>chatGPT</td>\n",
              "      <td>wikihow</td>\n",
              "      <td>2</td>\n",
              "      <td>157</td>\n",
              "      <td>5237</td>\n",
              "      <td>0.029979</td>\n",
              "    </tr>\n",
              "    <tr>\n",
              "      <th>3</th>\n",
              "      <td>How to Make Perfume\\n\\nPerfume is a great way ...</td>\n",
              "      <td>1</td>\n",
              "      <td>chatGPT</td>\n",
              "      <td>wikihow</td>\n",
              "      <td>3</td>\n",
              "      <td>152</td>\n",
              "      <td>4729</td>\n",
              "      <td>0.032142</td>\n",
              "    </tr>\n",
              "    <tr>\n",
              "      <th>4</th>\n",
              "      <td>How to Convert Song Lyrics to a Song'\\n\\nConve...</td>\n",
              "      <td>1</td>\n",
              "      <td>chatGPT</td>\n",
              "      <td>wikihow</td>\n",
              "      <td>4</td>\n",
              "      <td>89</td>\n",
              "      <td>3095</td>\n",
              "      <td>0.028756</td>\n",
              "    </tr>\n",
              "    <tr>\n",
              "      <th>...</th>\n",
              "      <td>...</td>\n",
              "      <td>...</td>\n",
              "      <td>...</td>\n",
              "      <td>...</td>\n",
              "      <td>...</td>\n",
              "      <td>...</td>\n",
              "      <td>...</td>\n",
              "      <td>...</td>\n",
              "    </tr>\n",
              "    <tr>\n",
              "      <th>119752</th>\n",
              "      <td>The paper is an interesting contribution, prim...</td>\n",
              "      <td>0</td>\n",
              "      <td>human</td>\n",
              "      <td>peerread</td>\n",
              "      <td>119752</td>\n",
              "      <td>14</td>\n",
              "      <td>440</td>\n",
              "      <td>0.031818</td>\n",
              "    </tr>\n",
              "    <tr>\n",
              "      <th>119753</th>\n",
              "      <td>\\nWe thank the reviewers for all their comment...</td>\n",
              "      <td>0</td>\n",
              "      <td>human</td>\n",
              "      <td>peerread</td>\n",
              "      <td>119753</td>\n",
              "      <td>273</td>\n",
              "      <td>4837</td>\n",
              "      <td>0.056440</td>\n",
              "    </tr>\n",
              "    <tr>\n",
              "      <th>119754</th>\n",
              "      <td>The authors introduce a semi-supervised method...</td>\n",
              "      <td>0</td>\n",
              "      <td>human</td>\n",
              "      <td>peerread</td>\n",
              "      <td>119754</td>\n",
              "      <td>37</td>\n",
              "      <td>1109</td>\n",
              "      <td>0.033363</td>\n",
              "    </tr>\n",
              "    <tr>\n",
              "      <th>119755</th>\n",
              "      <td>This paper proposes the Neural Graph Machine t...</td>\n",
              "      <td>0</td>\n",
              "      <td>human</td>\n",
              "      <td>peerread</td>\n",
              "      <td>119755</td>\n",
              "      <td>25</td>\n",
              "      <td>1176</td>\n",
              "      <td>0.021259</td>\n",
              "    </tr>\n",
              "    <tr>\n",
              "      <th>119756</th>\n",
              "      <td>The paper proposes a model that aims at learni...</td>\n",
              "      <td>0</td>\n",
              "      <td>human</td>\n",
              "      <td>peerread</td>\n",
              "      <td>119756</td>\n",
              "      <td>36</td>\n",
              "      <td>1065</td>\n",
              "      <td>0.033803</td>\n",
              "    </tr>\n",
              "  </tbody>\n",
              "</table>\n",
              "<p>119757 rows × 8 columns</p>\n",
              "</div>\n",
              "    <div class=\"colab-df-buttons\">\n",
              "\n",
              "  <div class=\"colab-df-container\">\n",
              "    <button class=\"colab-df-convert\" onclick=\"convertToInteractive('df-b3ca95d5-9483-40f0-ac28-1b5b3bbb1540')\"\n",
              "            title=\"Convert this dataframe to an interactive table.\"\n",
              "            style=\"display:none;\">\n",
              "\n",
              "  <svg xmlns=\"http://www.w3.org/2000/svg\" height=\"24px\" viewBox=\"0 -960 960 960\">\n",
              "    <path d=\"M120-120v-720h720v720H120Zm60-500h600v-160H180v160Zm220 220h160v-160H400v160Zm0 220h160v-160H400v160ZM180-400h160v-160H180v160Zm440 0h160v-160H620v160ZM180-180h160v-160H180v160Zm440 0h160v-160H620v160Z\"/>\n",
              "  </svg>\n",
              "    </button>\n",
              "\n",
              "  <style>\n",
              "    .colab-df-container {\n",
              "      display:flex;\n",
              "      gap: 12px;\n",
              "    }\n",
              "\n",
              "    .colab-df-convert {\n",
              "      background-color: #E8F0FE;\n",
              "      border: none;\n",
              "      border-radius: 50%;\n",
              "      cursor: pointer;\n",
              "      display: none;\n",
              "      fill: #1967D2;\n",
              "      height: 32px;\n",
              "      padding: 0 0 0 0;\n",
              "      width: 32px;\n",
              "    }\n",
              "\n",
              "    .colab-df-convert:hover {\n",
              "      background-color: #E2EBFA;\n",
              "      box-shadow: 0px 1px 2px rgba(60, 64, 67, 0.3), 0px 1px 3px 1px rgba(60, 64, 67, 0.15);\n",
              "      fill: #174EA6;\n",
              "    }\n",
              "\n",
              "    .colab-df-buttons div {\n",
              "      margin-bottom: 4px;\n",
              "    }\n",
              "\n",
              "    [theme=dark] .colab-df-convert {\n",
              "      background-color: #3B4455;\n",
              "      fill: #D2E3FC;\n",
              "    }\n",
              "\n",
              "    [theme=dark] .colab-df-convert:hover {\n",
              "      background-color: #434B5C;\n",
              "      box-shadow: 0px 1px 3px 1px rgba(0, 0, 0, 0.15);\n",
              "      filter: drop-shadow(0px 1px 2px rgba(0, 0, 0, 0.3));\n",
              "      fill: #FFFFFF;\n",
              "    }\n",
              "  </style>\n",
              "\n",
              "    <script>\n",
              "      const buttonEl =\n",
              "        document.querySelector('#df-b3ca95d5-9483-40f0-ac28-1b5b3bbb1540 button.colab-df-convert');\n",
              "      buttonEl.style.display =\n",
              "        google.colab.kernel.accessAllowed ? 'block' : 'none';\n",
              "\n",
              "      async function convertToInteractive(key) {\n",
              "        const element = document.querySelector('#df-b3ca95d5-9483-40f0-ac28-1b5b3bbb1540');\n",
              "        const dataTable =\n",
              "          await google.colab.kernel.invokeFunction('convertToInteractive',\n",
              "                                                    [key], {});\n",
              "        if (!dataTable) return;\n",
              "\n",
              "        const docLinkHtml = 'Like what you see? Visit the ' +\n",
              "          '<a target=\"_blank\" href=https://colab.research.google.com/notebooks/data_table.ipynb>data table notebook</a>'\n",
              "          + ' to learn more about interactive tables.';\n",
              "        element.innerHTML = '';\n",
              "        dataTable['output_type'] = 'display_data';\n",
              "        await google.colab.output.renderOutput(dataTable, element);\n",
              "        const docLink = document.createElement('div');\n",
              "        docLink.innerHTML = docLinkHtml;\n",
              "        element.appendChild(docLink);\n",
              "      }\n",
              "    </script>\n",
              "  </div>\n",
              "\n",
              "\n",
              "<div id=\"df-ce33a65d-e86d-424e-b132-fe900f6369cc\">\n",
              "  <button class=\"colab-df-quickchart\" onclick=\"quickchart('df-ce33a65d-e86d-424e-b132-fe900f6369cc')\"\n",
              "            title=\"Suggest charts\"\n",
              "            style=\"display:none;\">\n",
              "\n",
              "<svg xmlns=\"http://www.w3.org/2000/svg\" height=\"24px\"viewBox=\"0 0 24 24\"\n",
              "     width=\"24px\">\n",
              "    <g>\n",
              "        <path d=\"M19 3H5c-1.1 0-2 .9-2 2v14c0 1.1.9 2 2 2h14c1.1 0 2-.9 2-2V5c0-1.1-.9-2-2-2zM9 17H7v-7h2v7zm4 0h-2V7h2v10zm4 0h-2v-4h2v4z\"/>\n",
              "    </g>\n",
              "</svg>\n",
              "  </button>\n",
              "\n",
              "<style>\n",
              "  .colab-df-quickchart {\n",
              "      --bg-color: #E8F0FE;\n",
              "      --fill-color: #1967D2;\n",
              "      --hover-bg-color: #E2EBFA;\n",
              "      --hover-fill-color: #174EA6;\n",
              "      --disabled-fill-color: #AAA;\n",
              "      --disabled-bg-color: #DDD;\n",
              "  }\n",
              "\n",
              "  [theme=dark] .colab-df-quickchart {\n",
              "      --bg-color: #3B4455;\n",
              "      --fill-color: #D2E3FC;\n",
              "      --hover-bg-color: #434B5C;\n",
              "      --hover-fill-color: #FFFFFF;\n",
              "      --disabled-bg-color: #3B4455;\n",
              "      --disabled-fill-color: #666;\n",
              "  }\n",
              "\n",
              "  .colab-df-quickchart {\n",
              "    background-color: var(--bg-color);\n",
              "    border: none;\n",
              "    border-radius: 50%;\n",
              "    cursor: pointer;\n",
              "    display: none;\n",
              "    fill: var(--fill-color);\n",
              "    height: 32px;\n",
              "    padding: 0;\n",
              "    width: 32px;\n",
              "  }\n",
              "\n",
              "  .colab-df-quickchart:hover {\n",
              "    background-color: var(--hover-bg-color);\n",
              "    box-shadow: 0 1px 2px rgba(60, 64, 67, 0.3), 0 1px 3px 1px rgba(60, 64, 67, 0.15);\n",
              "    fill: var(--button-hover-fill-color);\n",
              "  }\n",
              "\n",
              "  .colab-df-quickchart-complete:disabled,\n",
              "  .colab-df-quickchart-complete:disabled:hover {\n",
              "    background-color: var(--disabled-bg-color);\n",
              "    fill: var(--disabled-fill-color);\n",
              "    box-shadow: none;\n",
              "  }\n",
              "\n",
              "  .colab-df-spinner {\n",
              "    border: 2px solid var(--fill-color);\n",
              "    border-color: transparent;\n",
              "    border-bottom-color: var(--fill-color);\n",
              "    animation:\n",
              "      spin 1s steps(1) infinite;\n",
              "  }\n",
              "\n",
              "  @keyframes spin {\n",
              "    0% {\n",
              "      border-color: transparent;\n",
              "      border-bottom-color: var(--fill-color);\n",
              "      border-left-color: var(--fill-color);\n",
              "    }\n",
              "    20% {\n",
              "      border-color: transparent;\n",
              "      border-left-color: var(--fill-color);\n",
              "      border-top-color: var(--fill-color);\n",
              "    }\n",
              "    30% {\n",
              "      border-color: transparent;\n",
              "      border-left-color: var(--fill-color);\n",
              "      border-top-color: var(--fill-color);\n",
              "      border-right-color: var(--fill-color);\n",
              "    }\n",
              "    40% {\n",
              "      border-color: transparent;\n",
              "      border-right-color: var(--fill-color);\n",
              "      border-top-color: var(--fill-color);\n",
              "    }\n",
              "    60% {\n",
              "      border-color: transparent;\n",
              "      border-right-color: var(--fill-color);\n",
              "    }\n",
              "    80% {\n",
              "      border-color: transparent;\n",
              "      border-right-color: var(--fill-color);\n",
              "      border-bottom-color: var(--fill-color);\n",
              "    }\n",
              "    90% {\n",
              "      border-color: transparent;\n",
              "      border-bottom-color: var(--fill-color);\n",
              "    }\n",
              "  }\n",
              "</style>\n",
              "\n",
              "  <script>\n",
              "    async function quickchart(key) {\n",
              "      const quickchartButtonEl =\n",
              "        document.querySelector('#' + key + ' button');\n",
              "      quickchartButtonEl.disabled = true;  // To prevent multiple clicks.\n",
              "      quickchartButtonEl.classList.add('colab-df-spinner');\n",
              "      try {\n",
              "        const charts = await google.colab.kernel.invokeFunction(\n",
              "            'suggestCharts', [key], {});\n",
              "      } catch (error) {\n",
              "        console.error('Error during call to suggestCharts:', error);\n",
              "      }\n",
              "      quickchartButtonEl.classList.remove('colab-df-spinner');\n",
              "      quickchartButtonEl.classList.add('colab-df-quickchart-complete');\n",
              "    }\n",
              "    (() => {\n",
              "      let quickchartButtonEl =\n",
              "        document.querySelector('#df-ce33a65d-e86d-424e-b132-fe900f6369cc button');\n",
              "      quickchartButtonEl.style.display =\n",
              "        google.colab.kernel.accessAllowed ? 'block' : 'none';\n",
              "    })();\n",
              "  </script>\n",
              "</div>\n",
              "\n",
              "  <div id=\"id_bbbb0a21-898f-4913-83d6-849a4b8b3f8b\">\n",
              "    <style>\n",
              "      .colab-df-generate {\n",
              "        background-color: #E8F0FE;\n",
              "        border: none;\n",
              "        border-radius: 50%;\n",
              "        cursor: pointer;\n",
              "        display: none;\n",
              "        fill: #1967D2;\n",
              "        height: 32px;\n",
              "        padding: 0 0 0 0;\n",
              "        width: 32px;\n",
              "      }\n",
              "\n",
              "      .colab-df-generate:hover {\n",
              "        background-color: #E2EBFA;\n",
              "        box-shadow: 0px 1px 2px rgba(60, 64, 67, 0.3), 0px 1px 3px 1px rgba(60, 64, 67, 0.15);\n",
              "        fill: #174EA6;\n",
              "      }\n",
              "\n",
              "      [theme=dark] .colab-df-generate {\n",
              "        background-color: #3B4455;\n",
              "        fill: #D2E3FC;\n",
              "      }\n",
              "\n",
              "      [theme=dark] .colab-df-generate:hover {\n",
              "        background-color: #434B5C;\n",
              "        box-shadow: 0px 1px 3px 1px rgba(0, 0, 0, 0.15);\n",
              "        filter: drop-shadow(0px 1px 2px rgba(0, 0, 0, 0.3));\n",
              "        fill: #FFFFFF;\n",
              "      }\n",
              "    </style>\n",
              "    <button class=\"colab-df-generate\" onclick=\"generateWithVariable('train_data')\"\n",
              "            title=\"Generate code using this dataframe.\"\n",
              "            style=\"display:none;\">\n",
              "\n",
              "  <svg xmlns=\"http://www.w3.org/2000/svg\" height=\"24px\"viewBox=\"0 0 24 24\"\n",
              "       width=\"24px\">\n",
              "    <path d=\"M7,19H8.4L18.45,9,17,7.55,7,17.6ZM5,21V16.75L18.45,3.32a2,2,0,0,1,2.83,0l1.4,1.43a1.91,1.91,0,0,1,.58,1.4,1.91,1.91,0,0,1-.58,1.4L9.25,21ZM18.45,9,17,7.55Zm-12,3A5.31,5.31,0,0,0,4.9,8.1,5.31,5.31,0,0,0,1,6.5,5.31,5.31,0,0,0,4.9,4.9,5.31,5.31,0,0,0,6.5,1,5.31,5.31,0,0,0,8.1,4.9,5.31,5.31,0,0,0,12,6.5,5.46,5.46,0,0,0,6.5,12Z\"/>\n",
              "  </svg>\n",
              "    </button>\n",
              "    <script>\n",
              "      (() => {\n",
              "      const buttonEl =\n",
              "        document.querySelector('#id_bbbb0a21-898f-4913-83d6-849a4b8b3f8b button.colab-df-generate');\n",
              "      buttonEl.style.display =\n",
              "        google.colab.kernel.accessAllowed ? 'block' : 'none';\n",
              "\n",
              "      buttonEl.onclick = () => {\n",
              "        google.colab.notebook.generateWithVariable('train_data');\n",
              "      }\n",
              "      })();\n",
              "    </script>\n",
              "  </div>\n",
              "\n",
              "    </div>\n",
              "  </div>\n"
            ]
          },
          "metadata": {},
          "execution_count": 78
        }
      ]
    },
    {
      "cell_type": "code",
      "source": [
        "from sklearn.preprocessing import StandardScaler\n",
        "import numpy as np\n",
        "def append_features(original_input, new_feature):\n",
        "    new_feature_list = []\n",
        "    scaler = StandardScaler()\n",
        "    new_feature_normalized = scaler.fit_transform(np.array(new_feature).reshape(-1,1))\n",
        "    new_feature_normalized = list(new_feature_normalized.flatten())\n",
        "    for original, new in zip(original_input,new_feature_normalized):\n",
        "        new_feature_list.append(original + [new])\n",
        "    return new_feature_list"
      ],
      "metadata": {
        "id": "_j0J5XdK8xgL"
      },
      "execution_count": null,
      "outputs": []
    },
    {
      "cell_type": "markdown",
      "source": [
        "embedding+special character count model\n",
        "\n"
      ],
      "metadata": {
        "id": "5ggY-u6u0hKT"
      }
    },
    {
      "cell_type": "code",
      "source": [
        "inputs = append_features(train_embeds, list(train_data[\"Special_Characters_Count\"] ))\n",
        "labels = list(train_data[\"label\"])\n",
        "dev_inputs = append_features(dev_embeds,list(dev_data[\"Special_Characters_Count\"] ))\n",
        "dev_labels = dev_data[\"label\"]\n",
        "criterion = nn.CrossEntropyLoss()\n",
        "model = neuralnet(len(inputs[0]),2)\n",
        "optimizer = torch.optim.SGD(model.parameters(), lr=0.007, momentum=0.9)\n",
        "\n",
        "training(\n",
        "        inputs,\n",
        "        labels,\n",
        "        dev_inputs,\n",
        "        dev_labels,\n",
        "        model,\n",
        "        optimizer,\n",
        "        criterion,\n",
        ")"
      ],
      "metadata": {
        "colab": {
          "base_uri": "https://localhost:8080/"
        },
        "id": "ClO64JjOwnTr",
        "outputId": "24388d54-8ac7-4c33-b881-3096347cd484"
      },
      "execution_count": null,
      "outputs": [
        {
          "output_type": "stream",
          "name": "stdout",
          "text": [
            "119757 5988\n"
          ]
        },
        {
          "output_type": "stream",
          "name": "stderr",
          "text": [
            "100%|██████████| 5988/5988 [00:14<00:00, 402.60it/s]\n"
          ]
        },
        {
          "output_type": "stream",
          "name": "stdout",
          "text": [
            "[1] loss: 0.595\n",
            "119757 5988\n"
          ]
        },
        {
          "output_type": "stream",
          "name": "stderr",
          "text": [
            "100%|██████████| 5988/5988 [00:14<00:00, 404.31it/s]\n"
          ]
        },
        {
          "output_type": "stream",
          "name": "stdout",
          "text": [
            "[2] loss: 0.462\n",
            "119757 5988\n"
          ]
        },
        {
          "output_type": "stream",
          "name": "stderr",
          "text": [
            "100%|██████████| 5988/5988 [00:15<00:00, 393.60it/s]\n"
          ]
        },
        {
          "output_type": "stream",
          "name": "stdout",
          "text": [
            "[3] loss: 0.440\n",
            "119757 5988\n"
          ]
        },
        {
          "output_type": "stream",
          "name": "stderr",
          "text": [
            "100%|██████████| 5988/5988 [00:14<00:00, 410.21it/s]\n"
          ]
        },
        {
          "output_type": "stream",
          "name": "stdout",
          "text": [
            "[4] loss: 0.433\n",
            "119757 5988\n"
          ]
        },
        {
          "output_type": "stream",
          "name": "stderr",
          "text": [
            "100%|██████████| 5988/5988 [00:14<00:00, 399.62it/s]\n"
          ]
        },
        {
          "output_type": "stream",
          "name": "stdout",
          "text": [
            "[5] loss: 0.424\n",
            "119757 5988\n"
          ]
        },
        {
          "output_type": "stream",
          "name": "stderr",
          "text": [
            "100%|██████████| 5988/5988 [00:15<00:00, 397.50it/s]\n"
          ]
        },
        {
          "output_type": "stream",
          "name": "stdout",
          "text": [
            "[6] loss: 0.421\n",
            "119757 5988\n"
          ]
        },
        {
          "output_type": "stream",
          "name": "stderr",
          "text": [
            "100%|██████████| 5988/5988 [00:15<00:00, 393.91it/s]\n"
          ]
        },
        {
          "output_type": "stream",
          "name": "stdout",
          "text": [
            "[7] loss: 0.420\n",
            "119757 5988\n"
          ]
        },
        {
          "output_type": "stream",
          "name": "stderr",
          "text": [
            "100%|██████████| 5988/5988 [00:15<00:00, 396.69it/s]\n"
          ]
        },
        {
          "output_type": "stream",
          "name": "stdout",
          "text": [
            "[8] loss: 0.418\n",
            "119757 5988\n"
          ]
        },
        {
          "output_type": "stream",
          "name": "stderr",
          "text": [
            "100%|██████████| 5988/5988 [00:14<00:00, 402.81it/s]\n"
          ]
        },
        {
          "output_type": "stream",
          "name": "stdout",
          "text": [
            "[9] loss: 0.416\n",
            "119757 5988\n"
          ]
        },
        {
          "output_type": "stream",
          "name": "stderr",
          "text": [
            "100%|██████████| 5988/5988 [00:15<00:00, 394.78it/s]\n"
          ]
        },
        {
          "output_type": "stream",
          "name": "stdout",
          "text": [
            "[10] loss: 0.414\n",
            "119757 5988\n"
          ]
        },
        {
          "output_type": "stream",
          "name": "stderr",
          "text": [
            "100%|██████████| 5988/5988 [00:15<00:00, 390.58it/s]\n"
          ]
        },
        {
          "output_type": "stream",
          "name": "stdout",
          "text": [
            "[11] loss: 0.414\n",
            "119757 5988\n"
          ]
        },
        {
          "output_type": "stream",
          "name": "stderr",
          "text": [
            "100%|██████████| 5988/5988 [00:15<00:00, 393.33it/s]\n"
          ]
        },
        {
          "output_type": "stream",
          "name": "stdout",
          "text": [
            "[12] loss: 0.412\n",
            "119757 5988\n"
          ]
        },
        {
          "output_type": "stream",
          "name": "stderr",
          "text": [
            "100%|██████████| 5988/5988 [00:14<00:00, 407.98it/s]\n"
          ]
        },
        {
          "output_type": "stream",
          "name": "stdout",
          "text": [
            "[13] loss: 0.411\n",
            "119757 5988\n"
          ]
        },
        {
          "output_type": "stream",
          "name": "stderr",
          "text": [
            "100%|██████████| 5988/5988 [00:14<00:00, 405.94it/s]\n"
          ]
        },
        {
          "output_type": "stream",
          "name": "stdout",
          "text": [
            "[14] loss: 0.410\n",
            "119757 5988\n"
          ]
        },
        {
          "output_type": "stream",
          "name": "stderr",
          "text": [
            "100%|██████████| 5988/5988 [00:14<00:00, 402.93it/s]\n"
          ]
        },
        {
          "output_type": "stream",
          "name": "stdout",
          "text": [
            "[15] loss: 0.409\n",
            "119757 5988\n"
          ]
        },
        {
          "output_type": "stream",
          "name": "stderr",
          "text": [
            "100%|██████████| 5988/5988 [00:14<00:00, 407.33it/s]\n"
          ]
        },
        {
          "output_type": "stream",
          "name": "stdout",
          "text": [
            "[16] loss: 0.408\n",
            "119757 5988\n"
          ]
        },
        {
          "output_type": "stream",
          "name": "stderr",
          "text": [
            "100%|██████████| 5988/5988 [00:14<00:00, 402.86it/s]\n"
          ]
        },
        {
          "output_type": "stream",
          "name": "stdout",
          "text": [
            "[17] loss: 0.408\n",
            "119757 5988\n"
          ]
        },
        {
          "output_type": "stream",
          "name": "stderr",
          "text": [
            "100%|██████████| 5988/5988 [00:14<00:00, 404.86it/s]\n"
          ]
        },
        {
          "output_type": "stream",
          "name": "stdout",
          "text": [
            "[18] loss: 0.408\n",
            "119757 5988\n"
          ]
        },
        {
          "output_type": "stream",
          "name": "stderr",
          "text": [
            "100%|██████████| 5988/5988 [00:15<00:00, 385.09it/s]\n"
          ]
        },
        {
          "output_type": "stream",
          "name": "stdout",
          "text": [
            "[19] loss: 0.408\n",
            "119757 5988\n"
          ]
        },
        {
          "output_type": "stream",
          "name": "stderr",
          "text": [
            "100%|██████████| 5988/5988 [00:14<00:00, 405.90it/s]\n"
          ]
        },
        {
          "output_type": "stream",
          "name": "stdout",
          "text": [
            "[20] loss: 0.408\n",
            "Accuracy on development data: 0.6548\n",
            "              precision    recall  f1-score   support\n",
            "\n",
            "           0       0.95      0.60      0.73      3966\n",
            "           1       0.36      0.87      0.51      1034\n",
            "\n",
            "    accuracy                           0.65      5000\n",
            "   macro avg       0.65      0.74      0.62      5000\n",
            "weighted avg       0.83      0.65      0.69      5000\n",
            "\n"
          ]
        }
      ]
    },
    {
      "cell_type": "markdown",
      "source": [
        "sum embedding + sp. cc"
      ],
      "metadata": {
        "id": "jTyI9nFFCryl"
      }
    },
    {
      "cell_type": "code",
      "source": [
        "train_embeds_sum = [ [sum(x)] for x in train_embeds]\n",
        "inputs = append_features(train_embeds_sum, list(train_data[\"Special_Characters_Count\"] ))\n",
        "labels = list(train_data[\"label\"])\n",
        "\n",
        "dev_embeds_sum = [ [sum(x)] for x in dev_embeds]\n",
        "dev_inputs = append_features(dev_embeds_sum,list(dev_data[\"Special_Characters_Count\"] ))\n",
        "dev_labels = dev_data[\"label\"]\n",
        "criterion = nn.CrossEntropyLoss()\n",
        "model = neuralnet(len(inputs[0]),2)\n",
        "optimizer = torch.optim.SGD(model.parameters(), lr=0.007, momentum=0.9)\n",
        "\n",
        "training(\n",
        "        inputs,\n",
        "        labels,\n",
        "        dev_inputs,\n",
        "        dev_labels,\n",
        "        model,\n",
        "        optimizer,\n",
        "        criterion,\n",
        ")"
      ],
      "metadata": {
        "colab": {
          "base_uri": "https://localhost:8080/"
        },
        "id": "gcN3JIeDAGW6",
        "outputId": "b51a85cb-9381-4208-ff7c-e60b82c34903"
      },
      "execution_count": null,
      "outputs": [
        {
          "output_type": "stream",
          "name": "stdout",
          "text": [
            "119757 5988\n"
          ]
        },
        {
          "output_type": "stream",
          "name": "stderr",
          "text": [
            "100%|██████████| 5988/5988 [00:03<00:00, 1834.21it/s]\n"
          ]
        },
        {
          "output_type": "stream",
          "name": "stdout",
          "text": [
            "[1] loss: 0.693\n",
            "119757 5988\n"
          ]
        },
        {
          "output_type": "stream",
          "name": "stderr",
          "text": [
            "100%|██████████| 5988/5988 [00:02<00:00, 2091.41it/s]\n"
          ]
        },
        {
          "output_type": "stream",
          "name": "stdout",
          "text": [
            "[2] loss: 0.693\n",
            "119757 5988\n"
          ]
        },
        {
          "output_type": "stream",
          "name": "stderr",
          "text": [
            "100%|██████████| 5988/5988 [00:03<00:00, 1962.43it/s]\n"
          ]
        },
        {
          "output_type": "stream",
          "name": "stdout",
          "text": [
            "[3] loss: 0.693\n",
            "119757 5988\n"
          ]
        },
        {
          "output_type": "stream",
          "name": "stderr",
          "text": [
            "100%|██████████| 5988/5988 [00:02<00:00, 2293.84it/s]\n"
          ]
        },
        {
          "output_type": "stream",
          "name": "stdout",
          "text": [
            "[4] loss: 0.693\n",
            "119757 5988\n"
          ]
        },
        {
          "output_type": "stream",
          "name": "stderr",
          "text": [
            "100%|██████████| 5988/5988 [00:02<00:00, 2243.42it/s]\n"
          ]
        },
        {
          "output_type": "stream",
          "name": "stdout",
          "text": [
            "[5] loss: 0.693\n",
            "119757 5988\n"
          ]
        },
        {
          "output_type": "stream",
          "name": "stderr",
          "text": [
            "100%|██████████| 5988/5988 [00:02<00:00, 2180.82it/s]\n"
          ]
        },
        {
          "output_type": "stream",
          "name": "stdout",
          "text": [
            "[6] loss: 0.693\n",
            "119757 5988\n"
          ]
        },
        {
          "output_type": "stream",
          "name": "stderr",
          "text": [
            "100%|██████████| 5988/5988 [00:03<00:00, 1875.34it/s]\n"
          ]
        },
        {
          "output_type": "stream",
          "name": "stdout",
          "text": [
            "[7] loss: 0.693\n",
            "119757 5988\n"
          ]
        },
        {
          "output_type": "stream",
          "name": "stderr",
          "text": [
            "100%|██████████| 5988/5988 [00:02<00:00, 2300.95it/s]\n"
          ]
        },
        {
          "output_type": "stream",
          "name": "stdout",
          "text": [
            "[8] loss: 0.693\n",
            "119757 5988\n"
          ]
        },
        {
          "output_type": "stream",
          "name": "stderr",
          "text": [
            "100%|██████████| 5988/5988 [00:02<00:00, 2265.49it/s]\n"
          ]
        },
        {
          "output_type": "stream",
          "name": "stdout",
          "text": [
            "[9] loss: 0.693\n",
            "119757 5988\n"
          ]
        },
        {
          "output_type": "stream",
          "name": "stderr",
          "text": [
            "100%|██████████| 5988/5988 [00:02<00:00, 2263.00it/s]\n"
          ]
        },
        {
          "output_type": "stream",
          "name": "stdout",
          "text": [
            "[10] loss: 0.693\n",
            "119757 5988\n"
          ]
        },
        {
          "output_type": "stream",
          "name": "stderr",
          "text": [
            "100%|██████████| 5988/5988 [00:02<00:00, 2101.30it/s]\n"
          ]
        },
        {
          "output_type": "stream",
          "name": "stdout",
          "text": [
            "[11] loss: 0.693\n",
            "119757 5988\n"
          ]
        },
        {
          "output_type": "stream",
          "name": "stderr",
          "text": [
            "100%|██████████| 5988/5988 [00:03<00:00, 1922.30it/s]\n"
          ]
        },
        {
          "output_type": "stream",
          "name": "stdout",
          "text": [
            "[12] loss: 0.693\n",
            "119757 5988\n"
          ]
        },
        {
          "output_type": "stream",
          "name": "stderr",
          "text": [
            "100%|██████████| 5988/5988 [00:02<00:00, 2269.86it/s]\n"
          ]
        },
        {
          "output_type": "stream",
          "name": "stdout",
          "text": [
            "[13] loss: 0.693\n",
            "119757 5988\n"
          ]
        },
        {
          "output_type": "stream",
          "name": "stderr",
          "text": [
            "100%|██████████| 5988/5988 [00:02<00:00, 2257.24it/s]\n"
          ]
        },
        {
          "output_type": "stream",
          "name": "stdout",
          "text": [
            "[14] loss: 0.693\n",
            "119757 5988\n"
          ]
        },
        {
          "output_type": "stream",
          "name": "stderr",
          "text": [
            "100%|██████████| 5988/5988 [00:02<00:00, 2286.53it/s]\n"
          ]
        },
        {
          "output_type": "stream",
          "name": "stdout",
          "text": [
            "[15] loss: 0.693\n",
            "119757 5988\n"
          ]
        },
        {
          "output_type": "stream",
          "name": "stderr",
          "text": [
            "100%|██████████| 5988/5988 [00:02<00:00, 2037.66it/s]\n"
          ]
        },
        {
          "output_type": "stream",
          "name": "stdout",
          "text": [
            "[16] loss: 0.693\n",
            "119757 5988\n"
          ]
        },
        {
          "output_type": "stream",
          "name": "stderr",
          "text": [
            "100%|██████████| 5988/5988 [00:03<00:00, 1986.76it/s]\n"
          ]
        },
        {
          "output_type": "stream",
          "name": "stdout",
          "text": [
            "[17] loss: 0.693\n",
            "119757 5988\n"
          ]
        },
        {
          "output_type": "stream",
          "name": "stderr",
          "text": [
            "100%|██████████| 5988/5988 [00:02<00:00, 2246.78it/s]\n"
          ]
        },
        {
          "output_type": "stream",
          "name": "stdout",
          "text": [
            "[18] loss: 0.693\n",
            "119757 5988\n"
          ]
        },
        {
          "output_type": "stream",
          "name": "stderr",
          "text": [
            "100%|██████████| 5988/5988 [00:02<00:00, 2292.24it/s]\n"
          ]
        },
        {
          "output_type": "stream",
          "name": "stdout",
          "text": [
            "[19] loss: 0.693\n",
            "119757 5988\n"
          ]
        },
        {
          "output_type": "stream",
          "name": "stderr",
          "text": [
            "100%|██████████| 5988/5988 [00:02<00:00, 2259.71it/s]\n"
          ]
        },
        {
          "output_type": "stream",
          "name": "stdout",
          "text": [
            "[20] loss: 0.693\n",
            "Accuracy on development data: 0.5\n",
            "              precision    recall  f1-score   support\n",
            "\n",
            "           0       1.00      0.50      0.67      5000\n",
            "           1       0.00      0.00      0.00         0\n",
            "\n",
            "    accuracy                           0.50      5000\n",
            "   macro avg       0.50      0.25      0.33      5000\n",
            "weighted avg       1.00      0.50      0.67      5000\n",
            "\n"
          ]
        },
        {
          "output_type": "stream",
          "name": "stderr",
          "text": [
            "/usr/local/lib/python3.10/dist-packages/sklearn/metrics/_classification.py:1344: UndefinedMetricWarning: Recall and F-score are ill-defined and being set to 0.0 in labels with no true samples. Use `zero_division` parameter to control this behavior.\n",
            "  _warn_prf(average, modifier, msg_start, len(result))\n",
            "/usr/local/lib/python3.10/dist-packages/sklearn/metrics/_classification.py:1344: UndefinedMetricWarning: Recall and F-score are ill-defined and being set to 0.0 in labels with no true samples. Use `zero_division` parameter to control this behavior.\n",
            "  _warn_prf(average, modifier, msg_start, len(result))\n",
            "/usr/local/lib/python3.10/dist-packages/sklearn/metrics/_classification.py:1344: UndefinedMetricWarning: Recall and F-score are ill-defined and being set to 0.0 in labels with no true samples. Use `zero_division` parameter to control this behavior.\n",
            "  _warn_prf(average, modifier, msg_start, len(result))\n"
          ]
        }
      ]
    },
    {
      "cell_type": "markdown",
      "source": [
        "embeds + scc + text length (normalized)"
      ],
      "metadata": {
        "id": "lezlv4-RD8V5"
      }
    },
    {
      "cell_type": "code",
      "source": [
        "inputs = append_features(train_embeds, list(train_data[\"Special_Characters_Count\"] ))\n",
        "inputs = append_features(inputs, list(train_data[\"Text_Length\"] ))\n",
        "\n",
        "labels = list(train_data[\"label\"])\n",
        "dev_inputs = append_features(dev_embeds,list(dev_data[\"Special_Characters_Count\"] ))\n",
        "dev_inputs = append_features(dev_inputs, list(dev_data[\"Text_Length\"] ))\n",
        "dev_labels = dev_data[\"label\"]\n",
        "criterion = nn.CrossEntropyLoss()\n",
        "model = neuralnet(len(inputs[0]),2)\n",
        "print(len(inputs[0]))\n",
        "optimizer = torch.optim.SGD(model.parameters(), lr=0.007, momentum=0.9)\n",
        "\n",
        "training(\n",
        "        inputs,\n",
        "        labels,\n",
        "        dev_inputs,\n",
        "        dev_labels,\n",
        "        model,\n",
        "        optimizer,\n",
        "        criterion\n",
        ")"
      ],
      "metadata": {
        "colab": {
          "base_uri": "https://localhost:8080/"
        },
        "id": "zMTwI8lzC76r",
        "outputId": "310f63e5-5928-49c2-e165-489aa334de83"
      },
      "execution_count": null,
      "outputs": [
        {
          "output_type": "stream",
          "name": "stdout",
          "text": [
            "770\n",
            "119757 5988\n"
          ]
        },
        {
          "output_type": "stream",
          "name": "stderr",
          "text": [
            "100%|██████████| 5988/5988 [00:15<00:00, 386.80it/s]\n"
          ]
        },
        {
          "output_type": "stream",
          "name": "stdout",
          "text": [
            "[1] loss: 0.447\n",
            "119757 5988\n"
          ]
        },
        {
          "output_type": "stream",
          "name": "stderr",
          "text": [
            "100%|██████████| 5988/5988 [00:14<00:00, 401.34it/s]\n"
          ]
        },
        {
          "output_type": "stream",
          "name": "stdout",
          "text": [
            "[2] loss: 0.417\n",
            "119757 5988\n"
          ]
        },
        {
          "output_type": "stream",
          "name": "stderr",
          "text": [
            "100%|██████████| 5988/5988 [00:15<00:00, 397.44it/s]\n"
          ]
        },
        {
          "output_type": "stream",
          "name": "stdout",
          "text": [
            "[3] loss: 0.410\n",
            "119757 5988\n"
          ]
        },
        {
          "output_type": "stream",
          "name": "stderr",
          "text": [
            "100%|██████████| 5988/5988 [00:15<00:00, 398.52it/s]\n"
          ]
        },
        {
          "output_type": "stream",
          "name": "stdout",
          "text": [
            "[4] loss: 0.406\n",
            "119757 5988\n"
          ]
        },
        {
          "output_type": "stream",
          "name": "stderr",
          "text": [
            "100%|██████████| 5988/5988 [00:15<00:00, 395.28it/s]\n"
          ]
        },
        {
          "output_type": "stream",
          "name": "stdout",
          "text": [
            "[5] loss: 0.404\n",
            "119757 5988\n"
          ]
        },
        {
          "output_type": "stream",
          "name": "stderr",
          "text": [
            "100%|██████████| 5988/5988 [00:14<00:00, 399.47it/s]\n"
          ]
        },
        {
          "output_type": "stream",
          "name": "stdout",
          "text": [
            "[6] loss: 0.402\n",
            "119757 5988\n"
          ]
        },
        {
          "output_type": "stream",
          "name": "stderr",
          "text": [
            "100%|██████████| 5988/5988 [00:14<00:00, 402.31it/s]\n"
          ]
        },
        {
          "output_type": "stream",
          "name": "stdout",
          "text": [
            "[7] loss: 0.400\n",
            "119757 5988\n"
          ]
        },
        {
          "output_type": "stream",
          "name": "stderr",
          "text": [
            "100%|██████████| 5988/5988 [00:14<00:00, 403.02it/s]\n"
          ]
        },
        {
          "output_type": "stream",
          "name": "stdout",
          "text": [
            "[8] loss: 0.399\n",
            "119757 5988\n"
          ]
        },
        {
          "output_type": "stream",
          "name": "stderr",
          "text": [
            "100%|██████████| 5988/5988 [00:15<00:00, 396.51it/s]\n"
          ]
        },
        {
          "output_type": "stream",
          "name": "stdout",
          "text": [
            "[9] loss: 0.398\n",
            "119757 5988\n"
          ]
        },
        {
          "output_type": "stream",
          "name": "stderr",
          "text": [
            "100%|██████████| 5988/5988 [00:15<00:00, 397.76it/s]\n"
          ]
        },
        {
          "output_type": "stream",
          "name": "stdout",
          "text": [
            "[10] loss: 0.397\n",
            "119757 5988\n"
          ]
        },
        {
          "output_type": "stream",
          "name": "stderr",
          "text": [
            "100%|██████████| 5988/5988 [00:15<00:00, 394.66it/s]\n"
          ]
        },
        {
          "output_type": "stream",
          "name": "stdout",
          "text": [
            "[11] loss: 0.396\n",
            "119757 5988\n"
          ]
        },
        {
          "output_type": "stream",
          "name": "stderr",
          "text": [
            "100%|██████████| 5988/5988 [00:15<00:00, 386.81it/s]\n"
          ]
        },
        {
          "output_type": "stream",
          "name": "stdout",
          "text": [
            "[12] loss: 0.395\n",
            "119757 5988\n"
          ]
        },
        {
          "output_type": "stream",
          "name": "stderr",
          "text": [
            "100%|██████████| 5988/5988 [00:15<00:00, 384.53it/s]\n"
          ]
        },
        {
          "output_type": "stream",
          "name": "stdout",
          "text": [
            "[13] loss: 0.395\n",
            "119757 5988\n"
          ]
        },
        {
          "output_type": "stream",
          "name": "stderr",
          "text": [
            "100%|██████████| 5988/5988 [00:15<00:00, 392.62it/s]\n"
          ]
        },
        {
          "output_type": "stream",
          "name": "stdout",
          "text": [
            "[14] loss: 0.394\n",
            "119757 5988\n"
          ]
        },
        {
          "output_type": "stream",
          "name": "stderr",
          "text": [
            "100%|██████████| 5988/5988 [00:15<00:00, 389.12it/s]\n"
          ]
        },
        {
          "output_type": "stream",
          "name": "stdout",
          "text": [
            "[15] loss: 0.393\n",
            "119757 5988\n"
          ]
        },
        {
          "output_type": "stream",
          "name": "stderr",
          "text": [
            "100%|██████████| 5988/5988 [00:14<00:00, 401.93it/s]\n"
          ]
        },
        {
          "output_type": "stream",
          "name": "stdout",
          "text": [
            "[16] loss: 0.393\n",
            "119757 5988\n"
          ]
        },
        {
          "output_type": "stream",
          "name": "stderr",
          "text": [
            "100%|██████████| 5988/5988 [00:15<00:00, 398.27it/s]\n"
          ]
        },
        {
          "output_type": "stream",
          "name": "stdout",
          "text": [
            "[17] loss: 0.393\n",
            "119757 5988\n"
          ]
        },
        {
          "output_type": "stream",
          "name": "stderr",
          "text": [
            "100%|██████████| 5988/5988 [00:15<00:00, 397.78it/s]\n"
          ]
        },
        {
          "output_type": "stream",
          "name": "stdout",
          "text": [
            "[18] loss: 0.392\n",
            "119757 5988\n"
          ]
        },
        {
          "output_type": "stream",
          "name": "stderr",
          "text": [
            "100%|██████████| 5988/5988 [00:15<00:00, 397.89it/s]\n"
          ]
        },
        {
          "output_type": "stream",
          "name": "stdout",
          "text": [
            "[19] loss: 0.392\n",
            "119757 5988\n"
          ]
        },
        {
          "output_type": "stream",
          "name": "stderr",
          "text": [
            "100%|██████████| 5988/5988 [00:15<00:00, 394.91it/s]\n"
          ]
        },
        {
          "output_type": "stream",
          "name": "stdout",
          "text": [
            "[20] loss: 0.391\n",
            "Accuracy on development data: 0.6666\n",
            "              precision    recall  f1-score   support\n",
            "\n",
            "           0       0.94      0.61      0.74      3875\n",
            "           1       0.39      0.87      0.54      1125\n",
            "\n",
            "    accuracy                           0.67      5000\n",
            "   macro avg       0.67      0.74      0.64      5000\n",
            "weighted avg       0.82      0.67      0.69      5000\n",
            "\n"
          ]
        }
      ]
    },
    {
      "cell_type": "markdown",
      "source": [
        "Adding the log losses"
      ],
      "metadata": {
        "id": "Qj8Ts92SRabh"
      }
    },
    {
      "cell_type": "code",
      "source": [
        "file_path = \"drive/MyDrive/final-logLikelihoods-t5-base.pkl\"\n",
        "with open(file_path, 'rb') as f:\n",
        "    log_likelihood = pickle.load(f)"
      ],
      "metadata": {
        "colab": {
          "base_uri": "https://localhost:8080/"
        },
        "id": "IO_ZPg_EFQ0u",
        "outputId": "649affef-8dcd-469c-e6c3-7354922f8b1d"
      },
      "execution_count": null,
      "outputs": [
        {
          "output_type": "execute_result",
          "data": {
            "text/plain": [
              "119757"
            ]
          },
          "metadata": {},
          "execution_count": 45
        }
      ]
    },
    {
      "cell_type": "code",
      "source": [
        "train_data['Log_Likelihood_t5'] = log_likelihood[1]\n",
        "dev_data['Log_Likelihood_t5'] =  log_likelihood[0]\n",
        "\n",
        "train_data"
      ],
      "metadata": {
        "colab": {
          "base_uri": "https://localhost:8080/",
          "height": 808
        },
        "id": "ZH3YlTfESXo2",
        "outputId": "c13839ea-0eed-483f-e553-1784f794f0a3"
      },
      "execution_count": null,
      "outputs": [
        {
          "output_type": "execute_result",
          "data": {
            "text/plain": [
              "                                                     text  label    model  \\\n",
              "0       Forza Motorsport is a popular racing game that...      1  chatGPT   \n",
              "1       Buying Virtual Console games for your Nintendo...      1  chatGPT   \n",
              "2       Windows NT 4.0 was a popular operating system ...      1  chatGPT   \n",
              "3       How to Make Perfume\\n\\nPerfume is a great way ...      1  chatGPT   \n",
              "4       How to Convert Song Lyrics to a Song'\\n\\nConve...      1  chatGPT   \n",
              "...                                                   ...    ...      ...   \n",
              "119752  The paper is an interesting contribution, prim...      0    human   \n",
              "119753  \\nWe thank the reviewers for all their comment...      0    human   \n",
              "119754  The authors introduce a semi-supervised method...      0    human   \n",
              "119755  This paper proposes the Neural Graph Machine t...      0    human   \n",
              "119756  The paper proposes a model that aims at learni...      0    human   \n",
              "\n",
              "          source      id  Special_Characters_Count  Text_Length  \\\n",
              "0        wikihow       0                        82         2244   \n",
              "1        wikihow       1                       132         3728   \n",
              "2        wikihow       2                       157         5237   \n",
              "3        wikihow       3                       152         4729   \n",
              "4        wikihow       4                        89         3095   \n",
              "...          ...     ...                       ...          ...   \n",
              "119752  peerread  119752                        14          440   \n",
              "119753  peerread  119753                       273         4837   \n",
              "119754  peerread  119754                        37         1109   \n",
              "119755  peerread  119755                        25         1176   \n",
              "119756  peerread  119756                        36         1065   \n",
              "\n",
              "        Special_Characters_Ratio  Log_Likelihood_t5  \n",
              "0                       0.036542          -6.593756  \n",
              "1                       0.035408          -2.994959  \n",
              "2                       0.029979          -2.987468  \n",
              "3                       0.032142          -3.862272  \n",
              "4                       0.028756          -4.151425  \n",
              "...                          ...                ...  \n",
              "119752                  0.031818          -5.399578  \n",
              "119753                  0.056440          -8.677832  \n",
              "119754                  0.033363          -6.234921  \n",
              "119755                  0.021259          -1.387176  \n",
              "119756                  0.033803          -2.023967  \n",
              "\n",
              "[119757 rows x 9 columns]"
            ],
            "text/html": [
              "\n",
              "  <div id=\"df-1e8ac14e-5877-4ff9-a990-18e0d1b23db4\" class=\"colab-df-container\">\n",
              "    <div>\n",
              "<style scoped>\n",
              "    .dataframe tbody tr th:only-of-type {\n",
              "        vertical-align: middle;\n",
              "    }\n",
              "\n",
              "    .dataframe tbody tr th {\n",
              "        vertical-align: top;\n",
              "    }\n",
              "\n",
              "    .dataframe thead th {\n",
              "        text-align: right;\n",
              "    }\n",
              "</style>\n",
              "<table border=\"1\" class=\"dataframe\">\n",
              "  <thead>\n",
              "    <tr style=\"text-align: right;\">\n",
              "      <th></th>\n",
              "      <th>text</th>\n",
              "      <th>label</th>\n",
              "      <th>model</th>\n",
              "      <th>source</th>\n",
              "      <th>id</th>\n",
              "      <th>Special_Characters_Count</th>\n",
              "      <th>Text_Length</th>\n",
              "      <th>Special_Characters_Ratio</th>\n",
              "      <th>Log_Likelihood_t5</th>\n",
              "    </tr>\n",
              "  </thead>\n",
              "  <tbody>\n",
              "    <tr>\n",
              "      <th>0</th>\n",
              "      <td>Forza Motorsport is a popular racing game that...</td>\n",
              "      <td>1</td>\n",
              "      <td>chatGPT</td>\n",
              "      <td>wikihow</td>\n",
              "      <td>0</td>\n",
              "      <td>82</td>\n",
              "      <td>2244</td>\n",
              "      <td>0.036542</td>\n",
              "      <td>-6.593756</td>\n",
              "    </tr>\n",
              "    <tr>\n",
              "      <th>1</th>\n",
              "      <td>Buying Virtual Console games for your Nintendo...</td>\n",
              "      <td>1</td>\n",
              "      <td>chatGPT</td>\n",
              "      <td>wikihow</td>\n",
              "      <td>1</td>\n",
              "      <td>132</td>\n",
              "      <td>3728</td>\n",
              "      <td>0.035408</td>\n",
              "      <td>-2.994959</td>\n",
              "    </tr>\n",
              "    <tr>\n",
              "      <th>2</th>\n",
              "      <td>Windows NT 4.0 was a popular operating system ...</td>\n",
              "      <td>1</td>\n",
              "      <td>chatGPT</td>\n",
              "      <td>wikihow</td>\n",
              "      <td>2</td>\n",
              "      <td>157</td>\n",
              "      <td>5237</td>\n",
              "      <td>0.029979</td>\n",
              "      <td>-2.987468</td>\n",
              "    </tr>\n",
              "    <tr>\n",
              "      <th>3</th>\n",
              "      <td>How to Make Perfume\\n\\nPerfume is a great way ...</td>\n",
              "      <td>1</td>\n",
              "      <td>chatGPT</td>\n",
              "      <td>wikihow</td>\n",
              "      <td>3</td>\n",
              "      <td>152</td>\n",
              "      <td>4729</td>\n",
              "      <td>0.032142</td>\n",
              "      <td>-3.862272</td>\n",
              "    </tr>\n",
              "    <tr>\n",
              "      <th>4</th>\n",
              "      <td>How to Convert Song Lyrics to a Song'\\n\\nConve...</td>\n",
              "      <td>1</td>\n",
              "      <td>chatGPT</td>\n",
              "      <td>wikihow</td>\n",
              "      <td>4</td>\n",
              "      <td>89</td>\n",
              "      <td>3095</td>\n",
              "      <td>0.028756</td>\n",
              "      <td>-4.151425</td>\n",
              "    </tr>\n",
              "    <tr>\n",
              "      <th>...</th>\n",
              "      <td>...</td>\n",
              "      <td>...</td>\n",
              "      <td>...</td>\n",
              "      <td>...</td>\n",
              "      <td>...</td>\n",
              "      <td>...</td>\n",
              "      <td>...</td>\n",
              "      <td>...</td>\n",
              "      <td>...</td>\n",
              "    </tr>\n",
              "    <tr>\n",
              "      <th>119752</th>\n",
              "      <td>The paper is an interesting contribution, prim...</td>\n",
              "      <td>0</td>\n",
              "      <td>human</td>\n",
              "      <td>peerread</td>\n",
              "      <td>119752</td>\n",
              "      <td>14</td>\n",
              "      <td>440</td>\n",
              "      <td>0.031818</td>\n",
              "      <td>-5.399578</td>\n",
              "    </tr>\n",
              "    <tr>\n",
              "      <th>119753</th>\n",
              "      <td>\\nWe thank the reviewers for all their comment...</td>\n",
              "      <td>0</td>\n",
              "      <td>human</td>\n",
              "      <td>peerread</td>\n",
              "      <td>119753</td>\n",
              "      <td>273</td>\n",
              "      <td>4837</td>\n",
              "      <td>0.056440</td>\n",
              "      <td>-8.677832</td>\n",
              "    </tr>\n",
              "    <tr>\n",
              "      <th>119754</th>\n",
              "      <td>The authors introduce a semi-supervised method...</td>\n",
              "      <td>0</td>\n",
              "      <td>human</td>\n",
              "      <td>peerread</td>\n",
              "      <td>119754</td>\n",
              "      <td>37</td>\n",
              "      <td>1109</td>\n",
              "      <td>0.033363</td>\n",
              "      <td>-6.234921</td>\n",
              "    </tr>\n",
              "    <tr>\n",
              "      <th>119755</th>\n",
              "      <td>This paper proposes the Neural Graph Machine t...</td>\n",
              "      <td>0</td>\n",
              "      <td>human</td>\n",
              "      <td>peerread</td>\n",
              "      <td>119755</td>\n",
              "      <td>25</td>\n",
              "      <td>1176</td>\n",
              "      <td>0.021259</td>\n",
              "      <td>-1.387176</td>\n",
              "    </tr>\n",
              "    <tr>\n",
              "      <th>119756</th>\n",
              "      <td>The paper proposes a model that aims at learni...</td>\n",
              "      <td>0</td>\n",
              "      <td>human</td>\n",
              "      <td>peerread</td>\n",
              "      <td>119756</td>\n",
              "      <td>36</td>\n",
              "      <td>1065</td>\n",
              "      <td>0.033803</td>\n",
              "      <td>-2.023967</td>\n",
              "    </tr>\n",
              "  </tbody>\n",
              "</table>\n",
              "<p>119757 rows × 9 columns</p>\n",
              "</div>\n",
              "    <div class=\"colab-df-buttons\">\n",
              "\n",
              "  <div class=\"colab-df-container\">\n",
              "    <button class=\"colab-df-convert\" onclick=\"convertToInteractive('df-1e8ac14e-5877-4ff9-a990-18e0d1b23db4')\"\n",
              "            title=\"Convert this dataframe to an interactive table.\"\n",
              "            style=\"display:none;\">\n",
              "\n",
              "  <svg xmlns=\"http://www.w3.org/2000/svg\" height=\"24px\" viewBox=\"0 -960 960 960\">\n",
              "    <path d=\"M120-120v-720h720v720H120Zm60-500h600v-160H180v160Zm220 220h160v-160H400v160Zm0 220h160v-160H400v160ZM180-400h160v-160H180v160Zm440 0h160v-160H620v160ZM180-180h160v-160H180v160Zm440 0h160v-160H620v160Z\"/>\n",
              "  </svg>\n",
              "    </button>\n",
              "\n",
              "  <style>\n",
              "    .colab-df-container {\n",
              "      display:flex;\n",
              "      gap: 12px;\n",
              "    }\n",
              "\n",
              "    .colab-df-convert {\n",
              "      background-color: #E8F0FE;\n",
              "      border: none;\n",
              "      border-radius: 50%;\n",
              "      cursor: pointer;\n",
              "      display: none;\n",
              "      fill: #1967D2;\n",
              "      height: 32px;\n",
              "      padding: 0 0 0 0;\n",
              "      width: 32px;\n",
              "    }\n",
              "\n",
              "    .colab-df-convert:hover {\n",
              "      background-color: #E2EBFA;\n",
              "      box-shadow: 0px 1px 2px rgba(60, 64, 67, 0.3), 0px 1px 3px 1px rgba(60, 64, 67, 0.15);\n",
              "      fill: #174EA6;\n",
              "    }\n",
              "\n",
              "    .colab-df-buttons div {\n",
              "      margin-bottom: 4px;\n",
              "    }\n",
              "\n",
              "    [theme=dark] .colab-df-convert {\n",
              "      background-color: #3B4455;\n",
              "      fill: #D2E3FC;\n",
              "    }\n",
              "\n",
              "    [theme=dark] .colab-df-convert:hover {\n",
              "      background-color: #434B5C;\n",
              "      box-shadow: 0px 1px 3px 1px rgba(0, 0, 0, 0.15);\n",
              "      filter: drop-shadow(0px 1px 2px rgba(0, 0, 0, 0.3));\n",
              "      fill: #FFFFFF;\n",
              "    }\n",
              "  </style>\n",
              "\n",
              "    <script>\n",
              "      const buttonEl =\n",
              "        document.querySelector('#df-1e8ac14e-5877-4ff9-a990-18e0d1b23db4 button.colab-df-convert');\n",
              "      buttonEl.style.display =\n",
              "        google.colab.kernel.accessAllowed ? 'block' : 'none';\n",
              "\n",
              "      async function convertToInteractive(key) {\n",
              "        const element = document.querySelector('#df-1e8ac14e-5877-4ff9-a990-18e0d1b23db4');\n",
              "        const dataTable =\n",
              "          await google.colab.kernel.invokeFunction('convertToInteractive',\n",
              "                                                    [key], {});\n",
              "        if (!dataTable) return;\n",
              "\n",
              "        const docLinkHtml = 'Like what you see? Visit the ' +\n",
              "          '<a target=\"_blank\" href=https://colab.research.google.com/notebooks/data_table.ipynb>data table notebook</a>'\n",
              "          + ' to learn more about interactive tables.';\n",
              "        element.innerHTML = '';\n",
              "        dataTable['output_type'] = 'display_data';\n",
              "        await google.colab.output.renderOutput(dataTable, element);\n",
              "        const docLink = document.createElement('div');\n",
              "        docLink.innerHTML = docLinkHtml;\n",
              "        element.appendChild(docLink);\n",
              "      }\n",
              "    </script>\n",
              "  </div>\n",
              "\n",
              "\n",
              "<div id=\"df-46354016-ddc7-4b53-9f22-e4b1cca374cc\">\n",
              "  <button class=\"colab-df-quickchart\" onclick=\"quickchart('df-46354016-ddc7-4b53-9f22-e4b1cca374cc')\"\n",
              "            title=\"Suggest charts\"\n",
              "            style=\"display:none;\">\n",
              "\n",
              "<svg xmlns=\"http://www.w3.org/2000/svg\" height=\"24px\"viewBox=\"0 0 24 24\"\n",
              "     width=\"24px\">\n",
              "    <g>\n",
              "        <path d=\"M19 3H5c-1.1 0-2 .9-2 2v14c0 1.1.9 2 2 2h14c1.1 0 2-.9 2-2V5c0-1.1-.9-2-2-2zM9 17H7v-7h2v7zm4 0h-2V7h2v10zm4 0h-2v-4h2v4z\"/>\n",
              "    </g>\n",
              "</svg>\n",
              "  </button>\n",
              "\n",
              "<style>\n",
              "  .colab-df-quickchart {\n",
              "      --bg-color: #E8F0FE;\n",
              "      --fill-color: #1967D2;\n",
              "      --hover-bg-color: #E2EBFA;\n",
              "      --hover-fill-color: #174EA6;\n",
              "      --disabled-fill-color: #AAA;\n",
              "      --disabled-bg-color: #DDD;\n",
              "  }\n",
              "\n",
              "  [theme=dark] .colab-df-quickchart {\n",
              "      --bg-color: #3B4455;\n",
              "      --fill-color: #D2E3FC;\n",
              "      --hover-bg-color: #434B5C;\n",
              "      --hover-fill-color: #FFFFFF;\n",
              "      --disabled-bg-color: #3B4455;\n",
              "      --disabled-fill-color: #666;\n",
              "  }\n",
              "\n",
              "  .colab-df-quickchart {\n",
              "    background-color: var(--bg-color);\n",
              "    border: none;\n",
              "    border-radius: 50%;\n",
              "    cursor: pointer;\n",
              "    display: none;\n",
              "    fill: var(--fill-color);\n",
              "    height: 32px;\n",
              "    padding: 0;\n",
              "    width: 32px;\n",
              "  }\n",
              "\n",
              "  .colab-df-quickchart:hover {\n",
              "    background-color: var(--hover-bg-color);\n",
              "    box-shadow: 0 1px 2px rgba(60, 64, 67, 0.3), 0 1px 3px 1px rgba(60, 64, 67, 0.15);\n",
              "    fill: var(--button-hover-fill-color);\n",
              "  }\n",
              "\n",
              "  .colab-df-quickchart-complete:disabled,\n",
              "  .colab-df-quickchart-complete:disabled:hover {\n",
              "    background-color: var(--disabled-bg-color);\n",
              "    fill: var(--disabled-fill-color);\n",
              "    box-shadow: none;\n",
              "  }\n",
              "\n",
              "  .colab-df-spinner {\n",
              "    border: 2px solid var(--fill-color);\n",
              "    border-color: transparent;\n",
              "    border-bottom-color: var(--fill-color);\n",
              "    animation:\n",
              "      spin 1s steps(1) infinite;\n",
              "  }\n",
              "\n",
              "  @keyframes spin {\n",
              "    0% {\n",
              "      border-color: transparent;\n",
              "      border-bottom-color: var(--fill-color);\n",
              "      border-left-color: var(--fill-color);\n",
              "    }\n",
              "    20% {\n",
              "      border-color: transparent;\n",
              "      border-left-color: var(--fill-color);\n",
              "      border-top-color: var(--fill-color);\n",
              "    }\n",
              "    30% {\n",
              "      border-color: transparent;\n",
              "      border-left-color: var(--fill-color);\n",
              "      border-top-color: var(--fill-color);\n",
              "      border-right-color: var(--fill-color);\n",
              "    }\n",
              "    40% {\n",
              "      border-color: transparent;\n",
              "      border-right-color: var(--fill-color);\n",
              "      border-top-color: var(--fill-color);\n",
              "    }\n",
              "    60% {\n",
              "      border-color: transparent;\n",
              "      border-right-color: var(--fill-color);\n",
              "    }\n",
              "    80% {\n",
              "      border-color: transparent;\n",
              "      border-right-color: var(--fill-color);\n",
              "      border-bottom-color: var(--fill-color);\n",
              "    }\n",
              "    90% {\n",
              "      border-color: transparent;\n",
              "      border-bottom-color: var(--fill-color);\n",
              "    }\n",
              "  }\n",
              "</style>\n",
              "\n",
              "  <script>\n",
              "    async function quickchart(key) {\n",
              "      const quickchartButtonEl =\n",
              "        document.querySelector('#' + key + ' button');\n",
              "      quickchartButtonEl.disabled = true;  // To prevent multiple clicks.\n",
              "      quickchartButtonEl.classList.add('colab-df-spinner');\n",
              "      try {\n",
              "        const charts = await google.colab.kernel.invokeFunction(\n",
              "            'suggestCharts', [key], {});\n",
              "      } catch (error) {\n",
              "        console.error('Error during call to suggestCharts:', error);\n",
              "      }\n",
              "      quickchartButtonEl.classList.remove('colab-df-spinner');\n",
              "      quickchartButtonEl.classList.add('colab-df-quickchart-complete');\n",
              "    }\n",
              "    (() => {\n",
              "      let quickchartButtonEl =\n",
              "        document.querySelector('#df-46354016-ddc7-4b53-9f22-e4b1cca374cc button');\n",
              "      quickchartButtonEl.style.display =\n",
              "        google.colab.kernel.accessAllowed ? 'block' : 'none';\n",
              "    })();\n",
              "  </script>\n",
              "</div>\n",
              "\n",
              "  <div id=\"id_d353d933-e40b-4d8b-a6d0-49315a668194\">\n",
              "    <style>\n",
              "      .colab-df-generate {\n",
              "        background-color: #E8F0FE;\n",
              "        border: none;\n",
              "        border-radius: 50%;\n",
              "        cursor: pointer;\n",
              "        display: none;\n",
              "        fill: #1967D2;\n",
              "        height: 32px;\n",
              "        padding: 0 0 0 0;\n",
              "        width: 32px;\n",
              "      }\n",
              "\n",
              "      .colab-df-generate:hover {\n",
              "        background-color: #E2EBFA;\n",
              "        box-shadow: 0px 1px 2px rgba(60, 64, 67, 0.3), 0px 1px 3px 1px rgba(60, 64, 67, 0.15);\n",
              "        fill: #174EA6;\n",
              "      }\n",
              "\n",
              "      [theme=dark] .colab-df-generate {\n",
              "        background-color: #3B4455;\n",
              "        fill: #D2E3FC;\n",
              "      }\n",
              "\n",
              "      [theme=dark] .colab-df-generate:hover {\n",
              "        background-color: #434B5C;\n",
              "        box-shadow: 0px 1px 3px 1px rgba(0, 0, 0, 0.15);\n",
              "        filter: drop-shadow(0px 1px 2px rgba(0, 0, 0, 0.3));\n",
              "        fill: #FFFFFF;\n",
              "      }\n",
              "    </style>\n",
              "    <button class=\"colab-df-generate\" onclick=\"generateWithVariable('train_data')\"\n",
              "            title=\"Generate code using this dataframe.\"\n",
              "            style=\"display:none;\">\n",
              "\n",
              "  <svg xmlns=\"http://www.w3.org/2000/svg\" height=\"24px\"viewBox=\"0 0 24 24\"\n",
              "       width=\"24px\">\n",
              "    <path d=\"M7,19H8.4L18.45,9,17,7.55,7,17.6ZM5,21V16.75L18.45,3.32a2,2,0,0,1,2.83,0l1.4,1.43a1.91,1.91,0,0,1,.58,1.4,1.91,1.91,0,0,1-.58,1.4L9.25,21ZM18.45,9,17,7.55Zm-12,3A5.31,5.31,0,0,0,4.9,8.1,5.31,5.31,0,0,0,1,6.5,5.31,5.31,0,0,0,4.9,4.9,5.31,5.31,0,0,0,6.5,1,5.31,5.31,0,0,0,8.1,4.9,5.31,5.31,0,0,0,12,6.5,5.46,5.46,0,0,0,6.5,12Z\"/>\n",
              "  </svg>\n",
              "    </button>\n",
              "    <script>\n",
              "      (() => {\n",
              "      const buttonEl =\n",
              "        document.querySelector('#id_d353d933-e40b-4d8b-a6d0-49315a668194 button.colab-df-generate');\n",
              "      buttonEl.style.display =\n",
              "        google.colab.kernel.accessAllowed ? 'block' : 'none';\n",
              "\n",
              "      buttonEl.onclick = () => {\n",
              "        google.colab.notebook.generateWithVariable('train_data');\n",
              "      }\n",
              "      })();\n",
              "    </script>\n",
              "  </div>\n",
              "\n",
              "    </div>\n",
              "  </div>\n"
            ]
          },
          "metadata": {},
          "execution_count": 46
        }
      ]
    },
    {
      "cell_type": "code",
      "source": [
        "inputs = append_features(train_embeds, list(train_data[\"Special_Characters_Count\"] ))\n",
        "inputs = append_features(inputs, list(train_data[\"Text_Length\"] ))\n",
        "inputs = append_features(inputs, list(train_data[\"Log_Likelihood_t5\"] ))\n",
        "\n",
        "labels = list(train_data[\"label\"])\n",
        "dev_inputs = append_features(dev_embeds,list(dev_data[\"Special_Characters_Count\"] ))\n",
        "dev_inputs = append_features(dev_inputs, list(dev_data[\"Text_Length\"] ))\n",
        "dev_inputs = append_features(dev_inputs, list(dev_data[\"Log_Likelihood_t5\"] ))\n",
        "dev_labels = dev_data[\"label\"]\n",
        "criterion = nn.CrossEntropyLoss()\n",
        "model = neuralnet(len(inputs[0]),2)\n",
        "print(len(inputs[0]))\n",
        "optimizer = torch.optim.SGD(model.parameters(), lr=0.007, momentum=0.9)\n",
        "\n",
        "training(\n",
        "        inputs,\n",
        "        labels,\n",
        "        dev_inputs,\n",
        "        dev_labels,\n",
        "        model,\n",
        "        optimizer,\n",
        "        criterion\n",
        ")"
      ],
      "metadata": {
        "colab": {
          "base_uri": "https://localhost:8080/"
        },
        "id": "1hM-PpocS6-C",
        "outputId": "d5e13510-b8cc-4648-e8ab-96b86c383090"
      },
      "execution_count": null,
      "outputs": [
        {
          "output_type": "stream",
          "name": "stdout",
          "text": [
            "771\n",
            "119757 5988\n"
          ]
        },
        {
          "output_type": "stream",
          "name": "stderr",
          "text": [
            "100%|██████████| 5988/5988 [00:15<00:00, 387.73it/s]\n"
          ]
        },
        {
          "output_type": "stream",
          "name": "stdout",
          "text": [
            "[1] loss: 0.447\n",
            "119757 5988\n"
          ]
        },
        {
          "output_type": "stream",
          "name": "stderr",
          "text": [
            "100%|██████████| 5988/5988 [00:15<00:00, 396.46it/s]\n"
          ]
        },
        {
          "output_type": "stream",
          "name": "stdout",
          "text": [
            "[2] loss: 0.417\n",
            "119757 5988\n"
          ]
        },
        {
          "output_type": "stream",
          "name": "stderr",
          "text": [
            "100%|██████████| 5988/5988 [00:14<00:00, 400.67it/s]\n"
          ]
        },
        {
          "output_type": "stream",
          "name": "stdout",
          "text": [
            "[3] loss: 0.410\n",
            "119757 5988\n"
          ]
        },
        {
          "output_type": "stream",
          "name": "stderr",
          "text": [
            "100%|██████████| 5988/5988 [00:14<00:00, 400.17it/s]\n"
          ]
        },
        {
          "output_type": "stream",
          "name": "stdout",
          "text": [
            "[4] loss: 0.406\n",
            "119757 5988\n"
          ]
        },
        {
          "output_type": "stream",
          "name": "stderr",
          "text": [
            "100%|██████████| 5988/5988 [00:14<00:00, 403.30it/s]\n"
          ]
        },
        {
          "output_type": "stream",
          "name": "stdout",
          "text": [
            "[5] loss: 0.404\n",
            "119757 5988\n"
          ]
        },
        {
          "output_type": "stream",
          "name": "stderr",
          "text": [
            "100%|██████████| 5988/5988 [00:15<00:00, 385.31it/s]\n"
          ]
        },
        {
          "output_type": "stream",
          "name": "stdout",
          "text": [
            "[6] loss: 0.402\n",
            "119757 5988\n"
          ]
        },
        {
          "output_type": "stream",
          "name": "stderr",
          "text": [
            "100%|██████████| 5988/5988 [00:15<00:00, 382.49it/s]\n"
          ]
        },
        {
          "output_type": "stream",
          "name": "stdout",
          "text": [
            "[7] loss: 0.400\n",
            "119757 5988\n"
          ]
        },
        {
          "output_type": "stream",
          "name": "stderr",
          "text": [
            "100%|██████████| 5988/5988 [00:16<00:00, 370.70it/s]\n"
          ]
        },
        {
          "output_type": "stream",
          "name": "stdout",
          "text": [
            "[8] loss: 0.399\n",
            "119757 5988\n"
          ]
        },
        {
          "output_type": "stream",
          "name": "stderr",
          "text": [
            "100%|██████████| 5988/5988 [00:15<00:00, 398.29it/s]\n"
          ]
        },
        {
          "output_type": "stream",
          "name": "stdout",
          "text": [
            "[9] loss: 0.398\n",
            "119757 5988\n"
          ]
        },
        {
          "output_type": "stream",
          "name": "stderr",
          "text": [
            "100%|██████████| 5988/5988 [00:14<00:00, 399.72it/s]\n"
          ]
        },
        {
          "output_type": "stream",
          "name": "stdout",
          "text": [
            "[10] loss: 0.397\n",
            "119757 5988\n"
          ]
        },
        {
          "output_type": "stream",
          "name": "stderr",
          "text": [
            "100%|██████████| 5988/5988 [00:14<00:00, 400.42it/s]\n"
          ]
        },
        {
          "output_type": "stream",
          "name": "stdout",
          "text": [
            "[11] loss: 0.396\n",
            "119757 5988\n"
          ]
        },
        {
          "output_type": "stream",
          "name": "stderr",
          "text": [
            "100%|██████████| 5988/5988 [00:14<00:00, 401.89it/s]\n"
          ]
        },
        {
          "output_type": "stream",
          "name": "stdout",
          "text": [
            "[12] loss: 0.395\n",
            "119757 5988\n"
          ]
        },
        {
          "output_type": "stream",
          "name": "stderr",
          "text": [
            "100%|██████████| 5988/5988 [00:14<00:00, 400.33it/s]\n"
          ]
        },
        {
          "output_type": "stream",
          "name": "stdout",
          "text": [
            "[13] loss: 0.394\n",
            "119757 5988\n"
          ]
        },
        {
          "output_type": "stream",
          "name": "stderr",
          "text": [
            "100%|██████████| 5988/5988 [00:15<00:00, 396.64it/s]\n"
          ]
        },
        {
          "output_type": "stream",
          "name": "stdout",
          "text": [
            "[14] loss: 0.394\n",
            "119757 5988\n"
          ]
        },
        {
          "output_type": "stream",
          "name": "stderr",
          "text": [
            "100%|██████████| 5988/5988 [00:15<00:00, 398.92it/s]\n"
          ]
        },
        {
          "output_type": "stream",
          "name": "stdout",
          "text": [
            "[15] loss: 0.393\n",
            "119757 5988\n"
          ]
        },
        {
          "output_type": "stream",
          "name": "stderr",
          "text": [
            "100%|██████████| 5988/5988 [00:14<00:00, 399.86it/s]\n"
          ]
        },
        {
          "output_type": "stream",
          "name": "stdout",
          "text": [
            "[16] loss: 0.393\n",
            "119757 5988\n"
          ]
        },
        {
          "output_type": "stream",
          "name": "stderr",
          "text": [
            "100%|██████████| 5988/5988 [00:15<00:00, 396.67it/s]\n"
          ]
        },
        {
          "output_type": "stream",
          "name": "stdout",
          "text": [
            "[17] loss: 0.393\n",
            "119757 5988\n"
          ]
        },
        {
          "output_type": "stream",
          "name": "stderr",
          "text": [
            "100%|██████████| 5988/5988 [00:15<00:00, 398.85it/s]\n"
          ]
        },
        {
          "output_type": "stream",
          "name": "stdout",
          "text": [
            "[18] loss: 0.392\n",
            "119757 5988\n"
          ]
        },
        {
          "output_type": "stream",
          "name": "stderr",
          "text": [
            "100%|██████████| 5988/5988 [00:14<00:00, 401.03it/s]\n"
          ]
        },
        {
          "output_type": "stream",
          "name": "stdout",
          "text": [
            "[19] loss: 0.392\n",
            "119757 5988\n"
          ]
        },
        {
          "output_type": "stream",
          "name": "stderr",
          "text": [
            "100%|██████████| 5988/5988 [00:14<00:00, 400.00it/s]\n"
          ]
        },
        {
          "output_type": "stream",
          "name": "stdout",
          "text": [
            "[20] loss: 0.391\n",
            "Accuracy on development data: 0.6492\n",
            "              precision    recall  f1-score   support\n",
            "\n",
            "           0       0.95      0.59      0.73      3998\n",
            "           1       0.35      0.87      0.50      1002\n",
            "\n",
            "    accuracy                           0.65      5000\n",
            "   macro avg       0.65      0.73      0.61      5000\n",
            "weighted avg       0.83      0.65      0.68      5000\n",
            "\n"
          ]
        }
      ]
    },
    {
      "cell_type": "code",
      "source": [],
      "metadata": {
        "id": "-LGkjkrzTMYm"
      },
      "execution_count": null,
      "outputs": []
    }
  ]
}