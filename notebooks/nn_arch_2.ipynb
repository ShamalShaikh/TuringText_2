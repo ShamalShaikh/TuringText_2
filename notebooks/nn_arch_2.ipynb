{
  "nbformat": 4,
  "nbformat_minor": 0,
  "metadata": {
    "colab": {
      "provenance": [],
      "history_visible": true,
      "gpuType": "T4"
    },
    "kernelspec": {
      "name": "python3",
      "display_name": "Python 3"
    },
    "language_info": {
      "name": "python"
    },
    "accelerator": "GPU"
  },
  "cells": [
    {
      "cell_type": "code",
      "execution_count": null,
      "metadata": {
        "colab": {
          "base_uri": "https://localhost:8080/"
        },
        "id": "GX4YKInkHC7Y",
        "outputId": "0a651a80-7f42-4659-db80-83759327a212"
      },
      "outputs": [
        {
          "output_type": "stream",
          "name": "stdout",
          "text": [
            "Mounted at /content/drive\n"
          ]
        }
      ],
      "source": [
        "from google.colab import drive\n",
        "drive.mount('/content/drive')"
      ]
    },
    {
      "cell_type": "markdown",
      "source": [
        "## Load all data"
      ],
      "metadata": {
        "id": "tr4-Dwzv1u0f"
      }
    },
    {
      "cell_type": "code",
      "source": [
        "import pickle\n",
        "import pandas as pd\n",
        "\n",
        "train_path = \"drive/MyDrive/subtaskA_train_monolingual.jsonl\"\n",
        "dev_path = \"drive/MyDrive/subtaskA_dev_monolingual.jsonl\"\n",
        "\n",
        "train_embeds_path = \"drive/MyDrive/embeddings512.pkl\"\n",
        "dev_embeds_path = \"drive/MyDrive/embeddings512_dev.pkl\"\n",
        "\n",
        "file_path = \"drive/MyDrive/final-logLikelihoods-t5-base.pkl\"\n",
        "with open(file_path, 'rb') as f:\n",
        "    log_likelihood = pickle.load(f)\n",
        "\n",
        "with open(train_path, 'r') as f:\n",
        "    train_data = pd.read_json(f, lines=True)\n",
        "\n",
        "with open(train_embeds_path, 'rb') as f:\n",
        "    train_embeds = pickle.load(f)\n",
        "\n",
        "with open(dev_path, 'r') as f:\n",
        "    dev_data = pd.read_json(f, lines=True)\n",
        "\n",
        "with open(dev_embeds_path, 'rb') as f:\n",
        "    dev_embeds = pickle.load(f)\n"
      ],
      "metadata": {
        "id": "mV-N3u52J3CK"
      },
      "execution_count": null,
      "outputs": []
    },
    {
      "cell_type": "code",
      "source": [
        "def count_special_characters(text):\n",
        "    return sum(not ch.isalnum() and not ch.isspace() for ch in text)\n",
        "\n",
        "train_data['Special_Characters_Count'] = train_data['text'].apply(count_special_characters)\n",
        "dev_data['Special_Characters_Count'] = dev_data['text'].apply(count_special_characters)\n",
        "\n",
        "train_data['Text_Length'] = train_data['text'].apply(len)\n",
        "dev_data['Text_Length'] = dev_data['text'].apply(len)\n",
        "\n",
        "\n",
        "train_data['Special_Characters_Ratio'] = train_data['Special_Characters_Count'] / train_data['Text_Length']\n",
        "dev_data['Special_Characters_Ratio'] = dev_data['Special_Characters_Count'] / dev_data['Text_Length']\n",
        "\n",
        "train_data['Log_Likelihood_t5'] = log_likelihood[1]\n",
        "dev_data['Log_Likelihood_t5'] =  log_likelihood[0]\n",
        "\n",
        "train_data"
      ],
      "metadata": {
        "colab": {
          "base_uri": "https://localhost:8080/",
          "height": 808
        },
        "id": "C_yRkvWYbM0H",
        "outputId": "5a5b9716-4088-4ae9-e2c3-e3737ca1b97b"
      },
      "execution_count": null,
      "outputs": [
        {
          "output_type": "execute_result",
          "data": {
            "text/plain": [
              "                                                     text  label    model  \\\n",
              "0       Forza Motorsport is a popular racing game that...      1  chatGPT   \n",
              "1       Buying Virtual Console games for your Nintendo...      1  chatGPT   \n",
              "2       Windows NT 4.0 was a popular operating system ...      1  chatGPT   \n",
              "3       How to Make Perfume\\n\\nPerfume is a great way ...      1  chatGPT   \n",
              "4       How to Convert Song Lyrics to a Song'\\n\\nConve...      1  chatGPT   \n",
              "...                                                   ...    ...      ...   \n",
              "119752  The paper is an interesting contribution, prim...      0    human   \n",
              "119753  \\nWe thank the reviewers for all their comment...      0    human   \n",
              "119754  The authors introduce a semi-supervised method...      0    human   \n",
              "119755  This paper proposes the Neural Graph Machine t...      0    human   \n",
              "119756  The paper proposes a model that aims at learni...      0    human   \n",
              "\n",
              "          source      id  Special_Characters_Count  Text_Length  \\\n",
              "0        wikihow       0                        82         2244   \n",
              "1        wikihow       1                       132         3728   \n",
              "2        wikihow       2                       157         5237   \n",
              "3        wikihow       3                       152         4729   \n",
              "4        wikihow       4                        89         3095   \n",
              "...          ...     ...                       ...          ...   \n",
              "119752  peerread  119752                        14          440   \n",
              "119753  peerread  119753                       273         4837   \n",
              "119754  peerread  119754                        37         1109   \n",
              "119755  peerread  119755                        25         1176   \n",
              "119756  peerread  119756                        36         1065   \n",
              "\n",
              "        Special_Characters_Ratio  Log_Likelihood_t5  \n",
              "0                       0.036542          -6.593756  \n",
              "1                       0.035408          -2.994959  \n",
              "2                       0.029979          -2.987468  \n",
              "3                       0.032142          -3.862272  \n",
              "4                       0.028756          -4.151425  \n",
              "...                          ...                ...  \n",
              "119752                  0.031818          -5.399578  \n",
              "119753                  0.056440          -8.677832  \n",
              "119754                  0.033363          -6.234921  \n",
              "119755                  0.021259          -1.387176  \n",
              "119756                  0.033803          -2.023967  \n",
              "\n",
              "[119757 rows x 9 columns]"
            ],
            "text/html": [
              "\n",
              "  <div id=\"df-081f23d6-4647-4932-a8dc-cca244507b93\" class=\"colab-df-container\">\n",
              "    <div>\n",
              "<style scoped>\n",
              "    .dataframe tbody tr th:only-of-type {\n",
              "        vertical-align: middle;\n",
              "    }\n",
              "\n",
              "    .dataframe tbody tr th {\n",
              "        vertical-align: top;\n",
              "    }\n",
              "\n",
              "    .dataframe thead th {\n",
              "        text-align: right;\n",
              "    }\n",
              "</style>\n",
              "<table border=\"1\" class=\"dataframe\">\n",
              "  <thead>\n",
              "    <tr style=\"text-align: right;\">\n",
              "      <th></th>\n",
              "      <th>text</th>\n",
              "      <th>label</th>\n",
              "      <th>model</th>\n",
              "      <th>source</th>\n",
              "      <th>id</th>\n",
              "      <th>Special_Characters_Count</th>\n",
              "      <th>Text_Length</th>\n",
              "      <th>Special_Characters_Ratio</th>\n",
              "      <th>Log_Likelihood_t5</th>\n",
              "    </tr>\n",
              "  </thead>\n",
              "  <tbody>\n",
              "    <tr>\n",
              "      <th>0</th>\n",
              "      <td>Forza Motorsport is a popular racing game that...</td>\n",
              "      <td>1</td>\n",
              "      <td>chatGPT</td>\n",
              "      <td>wikihow</td>\n",
              "      <td>0</td>\n",
              "      <td>82</td>\n",
              "      <td>2244</td>\n",
              "      <td>0.036542</td>\n",
              "      <td>-6.593756</td>\n",
              "    </tr>\n",
              "    <tr>\n",
              "      <th>1</th>\n",
              "      <td>Buying Virtual Console games for your Nintendo...</td>\n",
              "      <td>1</td>\n",
              "      <td>chatGPT</td>\n",
              "      <td>wikihow</td>\n",
              "      <td>1</td>\n",
              "      <td>132</td>\n",
              "      <td>3728</td>\n",
              "      <td>0.035408</td>\n",
              "      <td>-2.994959</td>\n",
              "    </tr>\n",
              "    <tr>\n",
              "      <th>2</th>\n",
              "      <td>Windows NT 4.0 was a popular operating system ...</td>\n",
              "      <td>1</td>\n",
              "      <td>chatGPT</td>\n",
              "      <td>wikihow</td>\n",
              "      <td>2</td>\n",
              "      <td>157</td>\n",
              "      <td>5237</td>\n",
              "      <td>0.029979</td>\n",
              "      <td>-2.987468</td>\n",
              "    </tr>\n",
              "    <tr>\n",
              "      <th>3</th>\n",
              "      <td>How to Make Perfume\\n\\nPerfume is a great way ...</td>\n",
              "      <td>1</td>\n",
              "      <td>chatGPT</td>\n",
              "      <td>wikihow</td>\n",
              "      <td>3</td>\n",
              "      <td>152</td>\n",
              "      <td>4729</td>\n",
              "      <td>0.032142</td>\n",
              "      <td>-3.862272</td>\n",
              "    </tr>\n",
              "    <tr>\n",
              "      <th>4</th>\n",
              "      <td>How to Convert Song Lyrics to a Song'\\n\\nConve...</td>\n",
              "      <td>1</td>\n",
              "      <td>chatGPT</td>\n",
              "      <td>wikihow</td>\n",
              "      <td>4</td>\n",
              "      <td>89</td>\n",
              "      <td>3095</td>\n",
              "      <td>0.028756</td>\n",
              "      <td>-4.151425</td>\n",
              "    </tr>\n",
              "    <tr>\n",
              "      <th>...</th>\n",
              "      <td>...</td>\n",
              "      <td>...</td>\n",
              "      <td>...</td>\n",
              "      <td>...</td>\n",
              "      <td>...</td>\n",
              "      <td>...</td>\n",
              "      <td>...</td>\n",
              "      <td>...</td>\n",
              "      <td>...</td>\n",
              "    </tr>\n",
              "    <tr>\n",
              "      <th>119752</th>\n",
              "      <td>The paper is an interesting contribution, prim...</td>\n",
              "      <td>0</td>\n",
              "      <td>human</td>\n",
              "      <td>peerread</td>\n",
              "      <td>119752</td>\n",
              "      <td>14</td>\n",
              "      <td>440</td>\n",
              "      <td>0.031818</td>\n",
              "      <td>-5.399578</td>\n",
              "    </tr>\n",
              "    <tr>\n",
              "      <th>119753</th>\n",
              "      <td>\\nWe thank the reviewers for all their comment...</td>\n",
              "      <td>0</td>\n",
              "      <td>human</td>\n",
              "      <td>peerread</td>\n",
              "      <td>119753</td>\n",
              "      <td>273</td>\n",
              "      <td>4837</td>\n",
              "      <td>0.056440</td>\n",
              "      <td>-8.677832</td>\n",
              "    </tr>\n",
              "    <tr>\n",
              "      <th>119754</th>\n",
              "      <td>The authors introduce a semi-supervised method...</td>\n",
              "      <td>0</td>\n",
              "      <td>human</td>\n",
              "      <td>peerread</td>\n",
              "      <td>119754</td>\n",
              "      <td>37</td>\n",
              "      <td>1109</td>\n",
              "      <td>0.033363</td>\n",
              "      <td>-6.234921</td>\n",
              "    </tr>\n",
              "    <tr>\n",
              "      <th>119755</th>\n",
              "      <td>This paper proposes the Neural Graph Machine t...</td>\n",
              "      <td>0</td>\n",
              "      <td>human</td>\n",
              "      <td>peerread</td>\n",
              "      <td>119755</td>\n",
              "      <td>25</td>\n",
              "      <td>1176</td>\n",
              "      <td>0.021259</td>\n",
              "      <td>-1.387176</td>\n",
              "    </tr>\n",
              "    <tr>\n",
              "      <th>119756</th>\n",
              "      <td>The paper proposes a model that aims at learni...</td>\n",
              "      <td>0</td>\n",
              "      <td>human</td>\n",
              "      <td>peerread</td>\n",
              "      <td>119756</td>\n",
              "      <td>36</td>\n",
              "      <td>1065</td>\n",
              "      <td>0.033803</td>\n",
              "      <td>-2.023967</td>\n",
              "    </tr>\n",
              "  </tbody>\n",
              "</table>\n",
              "<p>119757 rows × 9 columns</p>\n",
              "</div>\n",
              "    <div class=\"colab-df-buttons\">\n",
              "\n",
              "  <div class=\"colab-df-container\">\n",
              "    <button class=\"colab-df-convert\" onclick=\"convertToInteractive('df-081f23d6-4647-4932-a8dc-cca244507b93')\"\n",
              "            title=\"Convert this dataframe to an interactive table.\"\n",
              "            style=\"display:none;\">\n",
              "\n",
              "  <svg xmlns=\"http://www.w3.org/2000/svg\" height=\"24px\" viewBox=\"0 -960 960 960\">\n",
              "    <path d=\"M120-120v-720h720v720H120Zm60-500h600v-160H180v160Zm220 220h160v-160H400v160Zm0 220h160v-160H400v160ZM180-400h160v-160H180v160Zm440 0h160v-160H620v160ZM180-180h160v-160H180v160Zm440 0h160v-160H620v160Z\"/>\n",
              "  </svg>\n",
              "    </button>\n",
              "\n",
              "  <style>\n",
              "    .colab-df-container {\n",
              "      display:flex;\n",
              "      gap: 12px;\n",
              "    }\n",
              "\n",
              "    .colab-df-convert {\n",
              "      background-color: #E8F0FE;\n",
              "      border: none;\n",
              "      border-radius: 50%;\n",
              "      cursor: pointer;\n",
              "      display: none;\n",
              "      fill: #1967D2;\n",
              "      height: 32px;\n",
              "      padding: 0 0 0 0;\n",
              "      width: 32px;\n",
              "    }\n",
              "\n",
              "    .colab-df-convert:hover {\n",
              "      background-color: #E2EBFA;\n",
              "      box-shadow: 0px 1px 2px rgba(60, 64, 67, 0.3), 0px 1px 3px 1px rgba(60, 64, 67, 0.15);\n",
              "      fill: #174EA6;\n",
              "    }\n",
              "\n",
              "    .colab-df-buttons div {\n",
              "      margin-bottom: 4px;\n",
              "    }\n",
              "\n",
              "    [theme=dark] .colab-df-convert {\n",
              "      background-color: #3B4455;\n",
              "      fill: #D2E3FC;\n",
              "    }\n",
              "\n",
              "    [theme=dark] .colab-df-convert:hover {\n",
              "      background-color: #434B5C;\n",
              "      box-shadow: 0px 1px 3px 1px rgba(0, 0, 0, 0.15);\n",
              "      filter: drop-shadow(0px 1px 2px rgba(0, 0, 0, 0.3));\n",
              "      fill: #FFFFFF;\n",
              "    }\n",
              "  </style>\n",
              "\n",
              "    <script>\n",
              "      const buttonEl =\n",
              "        document.querySelector('#df-081f23d6-4647-4932-a8dc-cca244507b93 button.colab-df-convert');\n",
              "      buttonEl.style.display =\n",
              "        google.colab.kernel.accessAllowed ? 'block' : 'none';\n",
              "\n",
              "      async function convertToInteractive(key) {\n",
              "        const element = document.querySelector('#df-081f23d6-4647-4932-a8dc-cca244507b93');\n",
              "        const dataTable =\n",
              "          await google.colab.kernel.invokeFunction('convertToInteractive',\n",
              "                                                    [key], {});\n",
              "        if (!dataTable) return;\n",
              "\n",
              "        const docLinkHtml = 'Like what you see? Visit the ' +\n",
              "          '<a target=\"_blank\" href=https://colab.research.google.com/notebooks/data_table.ipynb>data table notebook</a>'\n",
              "          + ' to learn more about interactive tables.';\n",
              "        element.innerHTML = '';\n",
              "        dataTable['output_type'] = 'display_data';\n",
              "        await google.colab.output.renderOutput(dataTable, element);\n",
              "        const docLink = document.createElement('div');\n",
              "        docLink.innerHTML = docLinkHtml;\n",
              "        element.appendChild(docLink);\n",
              "      }\n",
              "    </script>\n",
              "  </div>\n",
              "\n",
              "\n",
              "<div id=\"df-42946e1f-cc26-4f2c-81a9-3c4eb4ce4711\">\n",
              "  <button class=\"colab-df-quickchart\" onclick=\"quickchart('df-42946e1f-cc26-4f2c-81a9-3c4eb4ce4711')\"\n",
              "            title=\"Suggest charts\"\n",
              "            style=\"display:none;\">\n",
              "\n",
              "<svg xmlns=\"http://www.w3.org/2000/svg\" height=\"24px\"viewBox=\"0 0 24 24\"\n",
              "     width=\"24px\">\n",
              "    <g>\n",
              "        <path d=\"M19 3H5c-1.1 0-2 .9-2 2v14c0 1.1.9 2 2 2h14c1.1 0 2-.9 2-2V5c0-1.1-.9-2-2-2zM9 17H7v-7h2v7zm4 0h-2V7h2v10zm4 0h-2v-4h2v4z\"/>\n",
              "    </g>\n",
              "</svg>\n",
              "  </button>\n",
              "\n",
              "<style>\n",
              "  .colab-df-quickchart {\n",
              "      --bg-color: #E8F0FE;\n",
              "      --fill-color: #1967D2;\n",
              "      --hover-bg-color: #E2EBFA;\n",
              "      --hover-fill-color: #174EA6;\n",
              "      --disabled-fill-color: #AAA;\n",
              "      --disabled-bg-color: #DDD;\n",
              "  }\n",
              "\n",
              "  [theme=dark] .colab-df-quickchart {\n",
              "      --bg-color: #3B4455;\n",
              "      --fill-color: #D2E3FC;\n",
              "      --hover-bg-color: #434B5C;\n",
              "      --hover-fill-color: #FFFFFF;\n",
              "      --disabled-bg-color: #3B4455;\n",
              "      --disabled-fill-color: #666;\n",
              "  }\n",
              "\n",
              "  .colab-df-quickchart {\n",
              "    background-color: var(--bg-color);\n",
              "    border: none;\n",
              "    border-radius: 50%;\n",
              "    cursor: pointer;\n",
              "    display: none;\n",
              "    fill: var(--fill-color);\n",
              "    height: 32px;\n",
              "    padding: 0;\n",
              "    width: 32px;\n",
              "  }\n",
              "\n",
              "  .colab-df-quickchart:hover {\n",
              "    background-color: var(--hover-bg-color);\n",
              "    box-shadow: 0 1px 2px rgba(60, 64, 67, 0.3), 0 1px 3px 1px rgba(60, 64, 67, 0.15);\n",
              "    fill: var(--button-hover-fill-color);\n",
              "  }\n",
              "\n",
              "  .colab-df-quickchart-complete:disabled,\n",
              "  .colab-df-quickchart-complete:disabled:hover {\n",
              "    background-color: var(--disabled-bg-color);\n",
              "    fill: var(--disabled-fill-color);\n",
              "    box-shadow: none;\n",
              "  }\n",
              "\n",
              "  .colab-df-spinner {\n",
              "    border: 2px solid var(--fill-color);\n",
              "    border-color: transparent;\n",
              "    border-bottom-color: var(--fill-color);\n",
              "    animation:\n",
              "      spin 1s steps(1) infinite;\n",
              "  }\n",
              "\n",
              "  @keyframes spin {\n",
              "    0% {\n",
              "      border-color: transparent;\n",
              "      border-bottom-color: var(--fill-color);\n",
              "      border-left-color: var(--fill-color);\n",
              "    }\n",
              "    20% {\n",
              "      border-color: transparent;\n",
              "      border-left-color: var(--fill-color);\n",
              "      border-top-color: var(--fill-color);\n",
              "    }\n",
              "    30% {\n",
              "      border-color: transparent;\n",
              "      border-left-color: var(--fill-color);\n",
              "      border-top-color: var(--fill-color);\n",
              "      border-right-color: var(--fill-color);\n",
              "    }\n",
              "    40% {\n",
              "      border-color: transparent;\n",
              "      border-right-color: var(--fill-color);\n",
              "      border-top-color: var(--fill-color);\n",
              "    }\n",
              "    60% {\n",
              "      border-color: transparent;\n",
              "      border-right-color: var(--fill-color);\n",
              "    }\n",
              "    80% {\n",
              "      border-color: transparent;\n",
              "      border-right-color: var(--fill-color);\n",
              "      border-bottom-color: var(--fill-color);\n",
              "    }\n",
              "    90% {\n",
              "      border-color: transparent;\n",
              "      border-bottom-color: var(--fill-color);\n",
              "    }\n",
              "  }\n",
              "</style>\n",
              "\n",
              "  <script>\n",
              "    async function quickchart(key) {\n",
              "      const quickchartButtonEl =\n",
              "        document.querySelector('#' + key + ' button');\n",
              "      quickchartButtonEl.disabled = true;  // To prevent multiple clicks.\n",
              "      quickchartButtonEl.classList.add('colab-df-spinner');\n",
              "      try {\n",
              "        const charts = await google.colab.kernel.invokeFunction(\n",
              "            'suggestCharts', [key], {});\n",
              "      } catch (error) {\n",
              "        console.error('Error during call to suggestCharts:', error);\n",
              "      }\n",
              "      quickchartButtonEl.classList.remove('colab-df-spinner');\n",
              "      quickchartButtonEl.classList.add('colab-df-quickchart-complete');\n",
              "    }\n",
              "    (() => {\n",
              "      let quickchartButtonEl =\n",
              "        document.querySelector('#df-42946e1f-cc26-4f2c-81a9-3c4eb4ce4711 button');\n",
              "      quickchartButtonEl.style.display =\n",
              "        google.colab.kernel.accessAllowed ? 'block' : 'none';\n",
              "    })();\n",
              "  </script>\n",
              "</div>\n",
              "\n",
              "  <div id=\"id_9ef1fdf7-3b96-4b7b-b60a-f48e2d5ceeb6\">\n",
              "    <style>\n",
              "      .colab-df-generate {\n",
              "        background-color: #E8F0FE;\n",
              "        border: none;\n",
              "        border-radius: 50%;\n",
              "        cursor: pointer;\n",
              "        display: none;\n",
              "        fill: #1967D2;\n",
              "        height: 32px;\n",
              "        padding: 0 0 0 0;\n",
              "        width: 32px;\n",
              "      }\n",
              "\n",
              "      .colab-df-generate:hover {\n",
              "        background-color: #E2EBFA;\n",
              "        box-shadow: 0px 1px 2px rgba(60, 64, 67, 0.3), 0px 1px 3px 1px rgba(60, 64, 67, 0.15);\n",
              "        fill: #174EA6;\n",
              "      }\n",
              "\n",
              "      [theme=dark] .colab-df-generate {\n",
              "        background-color: #3B4455;\n",
              "        fill: #D2E3FC;\n",
              "      }\n",
              "\n",
              "      [theme=dark] .colab-df-generate:hover {\n",
              "        background-color: #434B5C;\n",
              "        box-shadow: 0px 1px 3px 1px rgba(0, 0, 0, 0.15);\n",
              "        filter: drop-shadow(0px 1px 2px rgba(0, 0, 0, 0.3));\n",
              "        fill: #FFFFFF;\n",
              "      }\n",
              "    </style>\n",
              "    <button class=\"colab-df-generate\" onclick=\"generateWithVariable('train_data')\"\n",
              "            title=\"Generate code using this dataframe.\"\n",
              "            style=\"display:none;\">\n",
              "\n",
              "  <svg xmlns=\"http://www.w3.org/2000/svg\" height=\"24px\"viewBox=\"0 0 24 24\"\n",
              "       width=\"24px\">\n",
              "    <path d=\"M7,19H8.4L18.45,9,17,7.55,7,17.6ZM5,21V16.75L18.45,3.32a2,2,0,0,1,2.83,0l1.4,1.43a1.91,1.91,0,0,1,.58,1.4,1.91,1.91,0,0,1-.58,1.4L9.25,21ZM18.45,9,17,7.55Zm-12,3A5.31,5.31,0,0,0,4.9,8.1,5.31,5.31,0,0,0,1,6.5,5.31,5.31,0,0,0,4.9,4.9,5.31,5.31,0,0,0,6.5,1,5.31,5.31,0,0,0,8.1,4.9,5.31,5.31,0,0,0,12,6.5,5.46,5.46,0,0,0,6.5,12Z\"/>\n",
              "  </svg>\n",
              "    </button>\n",
              "    <script>\n",
              "      (() => {\n",
              "      const buttonEl =\n",
              "        document.querySelector('#id_9ef1fdf7-3b96-4b7b-b60a-f48e2d5ceeb6 button.colab-df-generate');\n",
              "      buttonEl.style.display =\n",
              "        google.colab.kernel.accessAllowed ? 'block' : 'none';\n",
              "\n",
              "      buttonEl.onclick = () => {\n",
              "        google.colab.notebook.generateWithVariable('train_data');\n",
              "      }\n",
              "      })();\n",
              "    </script>\n",
              "  </div>\n",
              "\n",
              "    </div>\n",
              "  </div>\n"
            ]
          },
          "metadata": {},
          "execution_count": 3
        }
      ]
    },
    {
      "cell_type": "code",
      "source": [
        "from sklearn.preprocessing import StandardScaler\n",
        "import numpy as np\n",
        "def create_struct_features(dataset):\n",
        "    column_names = [\"Special_Characters_Count\",\t\"Text_Length\", \"Special_Characters_Ratio\"]\n",
        "    struct_feature_list = dataset[column_names]\n",
        "    # print(struct_feature_list)\n",
        "    scaler = StandardScaler()\n",
        "    struct_feature_normalized = scaler.fit_transform(struct_feature_list)\n",
        "    # print(struct_feature_normalized)\n",
        "    return struct_feature_normalized"
      ],
      "metadata": {
        "id": "gIamHkygPhRF"
      },
      "execution_count": null,
      "outputs": []
    },
    {
      "cell_type": "markdown",
      "source": [
        "## Define model and training loop"
      ],
      "metadata": {
        "id": "aDPZVRLr11ff"
      }
    },
    {
      "cell_type": "code",
      "source": [
        "import torch\n",
        "import torch.nn as nn\n",
        "from torch.nn.functional import relu\n",
        "\n",
        "class neuralnet(nn.Module):\n",
        "    def __init__(self, embeds_size, structural_inputs_size, num_classes):\n",
        "        super().__init__()\n",
        "\n",
        "        self.hidden_embedd = nn.Linear(embeds_size, 350)\n",
        "        self.hidden_struct = nn.Linear(structural_inputs_size, 4* structural_inputs_size)\n",
        "        self.hidden_combined = nn.Linear(350 + 4* structural_inputs_size, num_classes)\n",
        "        # self.double()\n",
        "    def forward(self,embeds, structurals):\n",
        "        embed_output = self.hidden_embedd(embeds)\n",
        "        struct_output = self.hidden_struct(structurals)\n",
        "        # print(embed_output.shape, struct_output.shape)\n",
        "        combined = self.hidden_combined(torch.cat((embed_output,struct_output), dim=1))\n",
        "        return torch.sigmoid(combined)\n",
        "\n",
        "\n"
      ],
      "metadata": {
        "id": "S7DQx5GX1Byw"
      },
      "execution_count": null,
      "outputs": []
    },
    {
      "cell_type": "code",
      "source": [
        "from tqdm import tqdm\n",
        "from sklearn.metrics import accuracy_score, classification_report\n",
        "import numpy as np\n",
        "\n",
        "def training(\n",
        "        train_embeds,\n",
        "        train_struct_features,\n",
        "        train_labels,\n",
        "        dev__embeds,\n",
        "        dev_struct_features,\n",
        "        dev_labels,\n",
        "        model,\n",
        "        optimizer,\n",
        "        criterion,\n",
        "        epochs = 20,\n",
        "        batch_size = 20\n",
        "):\n",
        "    data = list(zip(train_embeds,train_struct_features,train_labels))\n",
        "    for epoch in range(epochs):\n",
        "        random.shuffle(data)\n",
        "        batches = []\n",
        "        running_loss = 0.0\n",
        "        for i in range(0,len(data),batch_size):\n",
        "            batches.append(data[i:i+batch_size])\n",
        "        print(len(data),len(batches))\n",
        "\n",
        "        for batch in tqdm(batches):\n",
        "            embeds, structural_features, labels = zip(*batch)\n",
        "            inputs1 = torch.tensor(embeds) #, dtype = torch.float32\n",
        "            inputs2 = torch.tensor(structural_features, dtype = torch.float32)\n",
        "            labels = torch.tensor(labels)\n",
        "\n",
        "            optimizer.zero_grad()\n",
        "\n",
        "            outputs = model(inputs1, inputs2)\n",
        "            loss = criterion(outputs,labels)\n",
        "            loss.backward()\n",
        "            optimizer.step()\n",
        "            running_loss += loss.item()\n",
        "        print(f'[{epoch + 1}] loss: {running_loss / len(batches):.3f}')\n",
        "    predictions = model(torch.tensor(dev_embeds),torch.tensor(dev_struct_features,dtype = torch.float32)).tolist()\n",
        "    predictions = list(map(np.argmax, predictions))\n",
        "\n",
        "    accuracy = accuracy_score(predictions, dev_labels)\n",
        "    report = classification_report(predictions, dev_labels)\n",
        "    print(f\"Accuracy on development data: {accuracy}\")\n",
        "    print(report)"
      ],
      "metadata": {
        "id": "csMxtYr0Qgzv"
      },
      "execution_count": null,
      "outputs": []
    },
    {
      "cell_type": "markdown",
      "source": [
        "Neural network with just embeddings"
      ],
      "metadata": {
        "id": "ZsKASNTx35kt"
      }
    },
    {
      "cell_type": "code",
      "source": [
        "import random\n",
        "\n",
        "\n",
        "epochs = 20\n",
        "batch_size = 20\n",
        "\n",
        "struct_features = create_struct_features(train_data)\n",
        "train_inputs = [train_embeds, ]\n",
        "train_labels = list(train_data[\"label\"])\n",
        "dev_struct_features = create_struct_features(dev_data)\n",
        "dev_labels = dev_data[\"label\"]\n",
        "criterion = nn.CrossEntropyLoss()\n",
        "model = neuralnet(len(train_embeds[0]), len(struct_features[0]), 2)\n",
        "optimizer = torch.optim.SGD(model.parameters(), lr=0.003, momentum=0.9)\n",
        "\n",
        "training(\n",
        "        train_embeds,\n",
        "        struct_features,\n",
        "        train_labels,\n",
        "        dev_embeds,\n",
        "        dev_struct_features,\n",
        "        dev_labels,\n",
        "        model,\n",
        "        optimizer,\n",
        "        criterion,\n",
        "        epochs = epochs,\n",
        "        batch_size = batch_size\n",
        ")"
      ],
      "metadata": {
        "colab": {
          "base_uri": "https://localhost:8080/"
        },
        "id": "PGiT4POyQcSv",
        "outputId": "2d581abc-e13b-49d5-a77a-46240a48e0f0"
      },
      "execution_count": null,
      "outputs": [
        {
          "output_type": "stream",
          "name": "stdout",
          "text": [
            "119757 5988\n"
          ]
        },
        {
          "output_type": "stream",
          "name": "stderr",
          "text": [
            "100%|██████████| 5988/5988 [00:21<00:00, 272.92it/s]\n"
          ]
        },
        {
          "output_type": "stream",
          "name": "stdout",
          "text": [
            "[1] loss: 0.441\n",
            "119757 5988\n"
          ]
        },
        {
          "output_type": "stream",
          "name": "stderr",
          "text": [
            "100%|██████████| 5988/5988 [00:20<00:00, 287.11it/s]\n"
          ]
        },
        {
          "output_type": "stream",
          "name": "stdout",
          "text": [
            "[2] loss: 0.405\n",
            "119757 5988\n"
          ]
        },
        {
          "output_type": "stream",
          "name": "stderr",
          "text": [
            "100%|██████████| 5988/5988 [00:21<00:00, 276.98it/s]\n"
          ]
        },
        {
          "output_type": "stream",
          "name": "stdout",
          "text": [
            "[3] loss: 0.398\n",
            "119757 5988\n"
          ]
        },
        {
          "output_type": "stream",
          "name": "stderr",
          "text": [
            "100%|██████████| 5988/5988 [00:20<00:00, 292.91it/s]\n"
          ]
        },
        {
          "output_type": "stream",
          "name": "stdout",
          "text": [
            "[4] loss: 0.394\n",
            "119757 5988\n"
          ]
        },
        {
          "output_type": "stream",
          "name": "stderr",
          "text": [
            "100%|██████████| 5988/5988 [00:21<00:00, 273.69it/s]\n"
          ]
        },
        {
          "output_type": "stream",
          "name": "stdout",
          "text": [
            "[5] loss: 0.392\n",
            "119757 5988\n"
          ]
        },
        {
          "output_type": "stream",
          "name": "stderr",
          "text": [
            "100%|██████████| 5988/5988 [00:20<00:00, 290.21it/s]\n"
          ]
        },
        {
          "output_type": "stream",
          "name": "stdout",
          "text": [
            "[6] loss: 0.391\n",
            "119757 5988\n"
          ]
        },
        {
          "output_type": "stream",
          "name": "stderr",
          "text": [
            "100%|██████████| 5988/5988 [00:22<00:00, 270.15it/s]\n"
          ]
        },
        {
          "output_type": "stream",
          "name": "stdout",
          "text": [
            "[7] loss: 0.390\n",
            "119757 5988\n"
          ]
        },
        {
          "output_type": "stream",
          "name": "stderr",
          "text": [
            "100%|██████████| 5988/5988 [00:20<00:00, 287.53it/s]\n"
          ]
        },
        {
          "output_type": "stream",
          "name": "stdout",
          "text": [
            "[8] loss: 0.389\n",
            "119757 5988\n"
          ]
        },
        {
          "output_type": "stream",
          "name": "stderr",
          "text": [
            "100%|██████████| 5988/5988 [00:22<00:00, 271.84it/s]\n"
          ]
        },
        {
          "output_type": "stream",
          "name": "stdout",
          "text": [
            "[9] loss: 0.388\n",
            "119757 5988\n"
          ]
        },
        {
          "output_type": "stream",
          "name": "stderr",
          "text": [
            "100%|██████████| 5988/5988 [00:20<00:00, 294.35it/s]\n"
          ]
        },
        {
          "output_type": "stream",
          "name": "stdout",
          "text": [
            "[10] loss: 0.387\n",
            "119757 5988\n"
          ]
        },
        {
          "output_type": "stream",
          "name": "stderr",
          "text": [
            "100%|██████████| 5988/5988 [00:21<00:00, 274.51it/s]\n"
          ]
        },
        {
          "output_type": "stream",
          "name": "stdout",
          "text": [
            "[11] loss: 0.388\n",
            "119757 5988\n"
          ]
        },
        {
          "output_type": "stream",
          "name": "stderr",
          "text": [
            "100%|██████████| 5988/5988 [00:20<00:00, 288.92it/s]\n"
          ]
        },
        {
          "output_type": "stream",
          "name": "stdout",
          "text": [
            "[12] loss: 0.387\n",
            "119757 5988\n"
          ]
        },
        {
          "output_type": "stream",
          "name": "stderr",
          "text": [
            "100%|██████████| 5988/5988 [00:22<00:00, 270.63it/s]\n"
          ]
        },
        {
          "output_type": "stream",
          "name": "stdout",
          "text": [
            "[13] loss: 0.387\n",
            "119757 5988\n"
          ]
        },
        {
          "output_type": "stream",
          "name": "stderr",
          "text": [
            "100%|██████████| 5988/5988 [00:20<00:00, 288.72it/s]\n"
          ]
        },
        {
          "output_type": "stream",
          "name": "stdout",
          "text": [
            "[14] loss: 0.386\n",
            "119757 5988\n"
          ]
        },
        {
          "output_type": "stream",
          "name": "stderr",
          "text": [
            "100%|██████████| 5988/5988 [00:22<00:00, 271.44it/s]\n"
          ]
        },
        {
          "output_type": "stream",
          "name": "stdout",
          "text": [
            "[15] loss: 0.386\n",
            "119757 5988\n"
          ]
        },
        {
          "output_type": "stream",
          "name": "stderr",
          "text": [
            "100%|██████████| 5988/5988 [00:20<00:00, 292.79it/s]\n"
          ]
        },
        {
          "output_type": "stream",
          "name": "stdout",
          "text": [
            "[16] loss: 0.386\n",
            "119757 5988\n"
          ]
        },
        {
          "output_type": "stream",
          "name": "stderr",
          "text": [
            "100%|██████████| 5988/5988 [00:22<00:00, 271.54it/s]\n"
          ]
        },
        {
          "output_type": "stream",
          "name": "stdout",
          "text": [
            "[17] loss: 0.386\n",
            "119757 5988\n"
          ]
        },
        {
          "output_type": "stream",
          "name": "stderr",
          "text": [
            "100%|██████████| 5988/5988 [00:20<00:00, 288.86it/s]\n"
          ]
        },
        {
          "output_type": "stream",
          "name": "stdout",
          "text": [
            "[18] loss: 0.386\n",
            "119757 5988\n"
          ]
        },
        {
          "output_type": "stream",
          "name": "stderr",
          "text": [
            "100%|██████████| 5988/5988 [00:22<00:00, 267.75it/s]\n"
          ]
        },
        {
          "output_type": "stream",
          "name": "stdout",
          "text": [
            "[19] loss: 0.385\n",
            "119757 5988\n"
          ]
        },
        {
          "output_type": "stream",
          "name": "stderr",
          "text": [
            "100%|██████████| 5988/5988 [00:20<00:00, 295.25it/s]\n"
          ]
        },
        {
          "output_type": "stream",
          "name": "stdout",
          "text": [
            "[20] loss: 0.385\n",
            "Accuracy on development data: 0.6798\n",
            "              precision    recall  f1-score   support\n",
            "\n",
            "           0       0.93      0.62      0.74      3767\n",
            "           1       0.43      0.86      0.57      1233\n",
            "\n",
            "    accuracy                           0.68      5000\n",
            "   macro avg       0.68      0.74      0.66      5000\n",
            "weighted avg       0.81      0.68      0.70      5000\n",
            "\n"
          ]
        }
      ]
    },
    {
      "cell_type": "code",
      "source": [
        "class neuralnet2(nn.Module):\n",
        "    def __init__(self, embeds_size, structural_inputs_size, num_classes):\n",
        "        super().__init__()\n",
        "\n",
        "        self.hidden_embedd = nn.Linear(embeds_size, 10)\n",
        "        self.hidden_struct = nn.Linear(structural_inputs_size, 4* structural_inputs_size)\n",
        "        self.hidden_combined = nn.Linear(10 + 4* structural_inputs_size, num_classes)\n",
        "        # self.double()\n",
        "    def forward(self,embeds, structurals):\n",
        "        embed_output = self.hidden_embedd(embeds)\n",
        "        struct_output = self.hidden_struct(structurals)\n",
        "        # print(embed_output.shape, struct_output.shape)\n",
        "        combined = self.hidden_combined(torch.cat((embed_output,struct_output), dim=1))\n",
        "        return torch.sigmoid(combined)"
      ],
      "metadata": {
        "id": "_j0J5XdK8xgL"
      },
      "execution_count": null,
      "outputs": []
    },
    {
      "cell_type": "code",
      "source": [
        "criterion = nn.CrossEntropyLoss()\n",
        "model = neuralnet2(len(train_embeds[0]), len(struct_features[0]), 2)\n",
        "optimizer = torch.optim.SGD(model.parameters(), lr=0.003, momentum=0.9)\n",
        "\n",
        "training(\n",
        "        train_embeds,\n",
        "        struct_features,\n",
        "        train_labels,\n",
        "        dev_embeds,\n",
        "        dev_struct_features,\n",
        "        dev_labels,\n",
        "        model,\n",
        "        optimizer,\n",
        "        criterion,\n",
        "        epochs = epochs,\n",
        "        batch_size = batch_size\n",
        ")"
      ],
      "metadata": {
        "colab": {
          "base_uri": "https://localhost:8080/"
        },
        "id": "EdPkrgqYX5on",
        "outputId": "df198631-8680-4577-85b5-b6b67327ec83"
      },
      "execution_count": null,
      "outputs": [
        {
          "output_type": "stream",
          "name": "stdout",
          "text": [
            "119757 5988\n"
          ]
        },
        {
          "output_type": "stream",
          "name": "stderr",
          "text": [
            "100%|██████████| 5988/5988 [00:16<00:00, 357.79it/s]\n"
          ]
        },
        {
          "output_type": "stream",
          "name": "stdout",
          "text": [
            "[1] loss: 0.445\n",
            "119757 5988\n"
          ]
        },
        {
          "output_type": "stream",
          "name": "stderr",
          "text": [
            "100%|██████████| 5988/5988 [00:16<00:00, 370.17it/s]\n"
          ]
        },
        {
          "output_type": "stream",
          "name": "stdout",
          "text": [
            "[2] loss: 0.404\n",
            "119757 5988\n"
          ]
        },
        {
          "output_type": "stream",
          "name": "stderr",
          "text": [
            "100%|██████████| 5988/5988 [00:16<00:00, 360.16it/s]\n"
          ]
        },
        {
          "output_type": "stream",
          "name": "stdout",
          "text": [
            "[3] loss: 0.398\n",
            "119757 5988\n"
          ]
        },
        {
          "output_type": "stream",
          "name": "stderr",
          "text": [
            "100%|██████████| 5988/5988 [00:17<00:00, 344.13it/s]\n"
          ]
        },
        {
          "output_type": "stream",
          "name": "stdout",
          "text": [
            "[4] loss: 0.394\n",
            "119757 5988\n"
          ]
        },
        {
          "output_type": "stream",
          "name": "stderr",
          "text": [
            "100%|██████████| 5988/5988 [00:16<00:00, 368.48it/s]\n"
          ]
        },
        {
          "output_type": "stream",
          "name": "stdout",
          "text": [
            "[5] loss: 0.392\n",
            "119757 5988\n"
          ]
        },
        {
          "output_type": "stream",
          "name": "stderr",
          "text": [
            "100%|██████████| 5988/5988 [00:16<00:00, 367.27it/s]\n"
          ]
        },
        {
          "output_type": "stream",
          "name": "stdout",
          "text": [
            "[6] loss: 0.391\n",
            "119757 5988\n"
          ]
        },
        {
          "output_type": "stream",
          "name": "stderr",
          "text": [
            "100%|██████████| 5988/5988 [00:16<00:00, 369.88it/s]\n"
          ]
        },
        {
          "output_type": "stream",
          "name": "stdout",
          "text": [
            "[7] loss: 0.390\n",
            "119757 5988\n"
          ]
        },
        {
          "output_type": "stream",
          "name": "stderr",
          "text": [
            "100%|██████████| 5988/5988 [00:16<00:00, 370.86it/s]\n"
          ]
        },
        {
          "output_type": "stream",
          "name": "stdout",
          "text": [
            "[8] loss: 0.389\n",
            "119757 5988\n"
          ]
        },
        {
          "output_type": "stream",
          "name": "stderr",
          "text": [
            "100%|██████████| 5988/5988 [00:16<00:00, 354.36it/s]\n"
          ]
        },
        {
          "output_type": "stream",
          "name": "stdout",
          "text": [
            "[9] loss: 0.388\n",
            "119757 5988\n"
          ]
        },
        {
          "output_type": "stream",
          "name": "stderr",
          "text": [
            "100%|██████████| 5988/5988 [00:17<00:00, 350.19it/s]\n"
          ]
        },
        {
          "output_type": "stream",
          "name": "stdout",
          "text": [
            "[10] loss: 0.388\n",
            "119757 5988\n"
          ]
        },
        {
          "output_type": "stream",
          "name": "stderr",
          "text": [
            "100%|██████████| 5988/5988 [00:16<00:00, 367.41it/s]\n"
          ]
        },
        {
          "output_type": "stream",
          "name": "stdout",
          "text": [
            "[11] loss: 0.387\n",
            "119757 5988\n"
          ]
        },
        {
          "output_type": "stream",
          "name": "stderr",
          "text": [
            "100%|██████████| 5988/5988 [00:16<00:00, 365.98it/s]\n"
          ]
        },
        {
          "output_type": "stream",
          "name": "stdout",
          "text": [
            "[12] loss: 0.387\n",
            "119757 5988\n"
          ]
        },
        {
          "output_type": "stream",
          "name": "stderr",
          "text": [
            "100%|██████████| 5988/5988 [00:16<00:00, 356.18it/s]\n"
          ]
        },
        {
          "output_type": "stream",
          "name": "stdout",
          "text": [
            "[13] loss: 0.387\n",
            "119757 5988\n"
          ]
        },
        {
          "output_type": "stream",
          "name": "stderr",
          "text": [
            "100%|██████████| 5988/5988 [00:16<00:00, 358.08it/s]\n"
          ]
        },
        {
          "output_type": "stream",
          "name": "stdout",
          "text": [
            "[14] loss: 0.386\n",
            "119757 5988\n"
          ]
        },
        {
          "output_type": "stream",
          "name": "stderr",
          "text": [
            "100%|██████████| 5988/5988 [00:17<00:00, 339.25it/s]\n"
          ]
        },
        {
          "output_type": "stream",
          "name": "stdout",
          "text": [
            "[15] loss: 0.386\n",
            "119757 5988\n"
          ]
        },
        {
          "output_type": "stream",
          "name": "stderr",
          "text": [
            "100%|██████████| 5988/5988 [00:16<00:00, 366.73it/s]\n"
          ]
        },
        {
          "output_type": "stream",
          "name": "stdout",
          "text": [
            "[16] loss: 0.386\n",
            "119757 5988\n"
          ]
        },
        {
          "output_type": "stream",
          "name": "stderr",
          "text": [
            "100%|██████████| 5988/5988 [00:16<00:00, 367.45it/s]\n"
          ]
        },
        {
          "output_type": "stream",
          "name": "stdout",
          "text": [
            "[17] loss: 0.386\n",
            "119757 5988\n"
          ]
        },
        {
          "output_type": "stream",
          "name": "stderr",
          "text": [
            "100%|██████████| 5988/5988 [00:16<00:00, 367.62it/s]\n"
          ]
        },
        {
          "output_type": "stream",
          "name": "stdout",
          "text": [
            "[18] loss: 0.385\n",
            "119757 5988\n"
          ]
        },
        {
          "output_type": "stream",
          "name": "stderr",
          "text": [
            "100%|██████████| 5988/5988 [00:16<00:00, 363.46it/s]\n"
          ]
        },
        {
          "output_type": "stream",
          "name": "stdout",
          "text": [
            "[19] loss: 0.385\n",
            "119757 5988\n"
          ]
        },
        {
          "output_type": "stream",
          "name": "stderr",
          "text": [
            "100%|██████████| 5988/5988 [00:17<00:00, 337.16it/s]\n"
          ]
        },
        {
          "output_type": "stream",
          "name": "stdout",
          "text": [
            "[20] loss: 0.385\n",
            "Accuracy on development data: 0.6566\n",
            "              precision    recall  f1-score   support\n",
            "\n",
            "           0       0.95      0.60      0.73      3979\n",
            "           1       0.36      0.88      0.51      1021\n",
            "\n",
            "    accuracy                           0.66      5000\n",
            "   macro avg       0.66      0.74      0.62      5000\n",
            "weighted avg       0.83      0.66      0.69      5000\n",
            "\n"
          ]
        }
      ]
    },
    {
      "cell_type": "code",
      "source": [],
      "metadata": {
        "id": "lxm83D6RNa7X"
      },
      "execution_count": null,
      "outputs": []
    }
  ]
}